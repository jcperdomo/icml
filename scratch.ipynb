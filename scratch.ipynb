{
 "cells": [
  {
   "cell_type": "code",
   "execution_count": 1,
   "metadata": {
    "collapsed": false
   },
   "outputs": [
    {
     "name": "stderr",
     "output_type": "stream",
     "text": [
      "Using TensorFlow backend.\n"
     ]
    }
   ],
   "source": [
    "import numpy as np\n",
    "from setup_mnist import *\n",
    "from keras.models import Input, Model\n",
    "from keras.layers import Average\n",
    "import tensorflow as tf\n",
    "from noise_functions_dl import GradientDescentDL, gradientDescentFunc\n",
    "from functools import partial\n",
    "from mwu import adversary"
   ]
  },
  {
   "cell_type": "code",
   "execution_count": 2,
   "metadata": {
    "collapsed": false
   },
   "outputs": [],
   "source": [
    "data = MNIST()\n",
    "X_exp = np.load(\"multiclass_data_2/X_exp.npy\")\n",
    "Y_exp = np.load(\"multiclass_data_2/Y_exp.npy\")"
   ]
  },
  {
   "cell_type": "code",
   "execution_count": 3,
   "metadata": {
    "collapsed": false
   },
   "outputs": [],
   "source": [
    "X_exp = X_exp.reshape(-1, 28, 28, 1)\n",
    "Y_exp = np.array([(np.arange(10) == l).astype(np.float32) for l in Y_exp])"
   ]
  },
  {
   "cell_type": "code",
   "execution_count": 4,
   "metadata": {
    "collapsed": true
   },
   "outputs": [],
   "source": [
    "def ensembleModels(models, model_input):\n",
    "    # taken from https://medium.com/@twt446/ensemble-and-store-models-in-keras-2-x-b881a6d7693f\n",
    "    # collect outputs of models in a list\n",
    "    yModels=[model(model_input) for model in models] \n",
    "    # averaging outputs\n",
    "    yAvg=Average()(yModels) \n",
    "    # build model from same input and avg output\n",
    "    modelEns = Model(inputs=model_input, outputs=yAvg, name='ensemble')  \n",
    "    return modelEns"
   ]
  },
  {
   "cell_type": "code",
   "execution_count": null,
   "metadata": {
    "collapsed": false
   },
   "outputs": [
    {
     "name": "stdout",
     "output_type": "stream",
     "text": [
      "100/100 [==============================] - 0s 4ms/step\n",
      "[0.011660071313381195, 1.0]\n",
      "Number of models 1 \n",
      "Iteration 2999\n",
      "Time in Iteration 0.00976705551147\n",
      "Norm 2.20000004768\n",
      "Loss List [array([0.], dtype=float32)]\n",
      "Loss [0.]\n",
      "Iteration 2999\n",
      "Time in Iteration 0.00902795791626\n",
      "Norm 2.20000004768\n",
      "Loss List [array([0.37438217], dtype=float32)]\n",
      "Loss [0.37438217]\n",
      "Iteration 2999\n",
      "Time in Iteration 0.00877785682678\n",
      "Norm 1.99584758282\n",
      "Loss List [array([0.], dtype=float32)]\n",
      "Loss [0.]\n"
     ]
    }
   ],
   "source": [
    "alpha = 2.2\n",
    "lr = .001\n",
    "opt_iters=3000\n",
    "\n",
    "with tf.Session() as sess:\n",
    "    \n",
    "    model_dir = \"deep_networks\"\n",
    "    models = [conv_net(1, model_dir + \"/conv1\"), conv_net(0, model_dir + \"/conv2\"), \n",
    "              multilayer(4, 128, model_dir + \"/mlp1\"), multilayer(2, 256, model_dir + \"/mlp2\"),\n",
    "              multilayer(0, 0, model_dir + \"/zero_layer\")]\n",
    "    model_input = Input(shape=models[0].input_shape[1:])\n",
    "    ensemble = ensembleModels(models, model_input)\n",
    "    ensemble.compile(optimizer=\"adam\", loss='categorical_crossentropy', metrics=['accuracy'])\n",
    "    print ensemble.evaluate(X_exp, Y_exp)\n",
    "    attack_obj = GradientDescentDL(sess, [ensemble], alpha, (28, 1, 10), -.5, .5, \n",
    "                                   targeted=False, batch_size=1, max_iterations=opt_iters,\n",
    "                                   learning_rate=lr, confidence=0)\n",
    "    \n",
    "    noise_func = partial(gradientDescentFunc, attack=attack_obj)\n",
    "    \n",
    "    V = adversary(np.array([1.0]), [ensemble], X_exp, Y_exp, alpha, noise_func, False)\n",
    "    \n",
    "    "
   ]
  },
  {
   "cell_type": "code",
   "execution_count": null,
   "metadata": {
    "collapsed": true
   },
   "outputs": [],
   "source": []
  }
 ],
 "metadata": {
  "anaconda-cloud": {},
  "kernelspec": {
   "display_name": "Python [default]",
   "language": "python",
   "name": "python2"
  },
  "language_info": {
   "codemirror_mode": {
    "name": "ipython",
    "version": 2
   },
   "file_extension": ".py",
   "mimetype": "text/x-python",
   "name": "python",
   "nbconvert_exporter": "python",
   "pygments_lexer": "ipython2",
   "version": "2.7.12"
  }
 },
 "nbformat": 4,
 "nbformat_minor": 1
}
