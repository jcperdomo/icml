{
 "cells": [
  {
   "cell_type": "code",
   "execution_count": 9,
   "metadata": {
    "collapsed": false
   },
   "outputs": [],
   "source": [
    "import numpy as np\n",
    "from setup_mnist import *\n",
    "from keras.models import Input, Model\n",
    "from keras.layers import Average\n",
    "import tensorflow as tf\n",
    "from noise_functions_dl import GradientDescentDL, gradientDescentFunc\n",
    "from functools import partial\n",
    "from mwu import adversary\n",
    "import time\n",
    "import matplotlib.pyplot as plt\n",
    "%matplotlib inline"
   ]
  },
  {
   "cell_type": "code",
   "execution_count": 2,
   "metadata": {
    "collapsed": false
   },
   "outputs": [],
   "source": [
    "data = MNIST()\n",
    "X_exp = np.load(\"multiclass_data_2/X_exp.npy\")\n",
    "Y_exp = np.load(\"multiclass_data_2/Y_exp.npy\")\n",
    "Target_exp = np.load(\"multiclass_data_2/Target_exp.npy\")"
   ]
  },
  {
   "cell_type": "code",
   "execution_count": 3,
   "metadata": {
    "collapsed": false
   },
   "outputs": [],
   "source": [
    "X_exp = X_exp.reshape(-1, 28, 28, 1)\n",
    "Y_exp = np.array([(np.arange(10) == l).astype(np.float32) for l in Y_exp])\n",
    "Target_exp = np.array([(np.arange(10) == l).astype(np.float32) for l in Target_exp])"
   ]
  },
  {
   "cell_type": "code",
   "execution_count": 4,
   "metadata": {
    "collapsed": true
   },
   "outputs": [],
   "source": [
    "def ensembleModels(models, model_input):\n",
    "    # taken from https://medium.com/@twt446/ensemble-and-store-models-in-keras-2-x-b881a6d7693f\n",
    "    # collect outputs of models in a list\n",
    "    yModels=[model(model_input) for model in models] \n",
    "    # averaging outputs\n",
    "    yAvg=Average()(yModels) \n",
    "    # build model from same input and avg output\n",
    "    modelEns = Model(inputs=model_input, outputs=yAvg, name='ensemble')  \n",
    "    return modelEns"
   ]
  },
  {
   "cell_type": "code",
   "execution_count": 5,
   "metadata": {
    "collapsed": false
   },
   "outputs": [],
   "source": [
    "model_dir = \"deep_networks\"\n",
    "models = [conv_net(False, 2, 200, model_dir + \"/conv0\"), conv_net(True, 2, 200, model_dir + \"/conv1\"), \n",
    "          conv_net(True, 4, 64, model_dir + \"/conv2\"), multilayer(4, 128, model_dir + \"/mlp0\"),\n",
    "          multilayer(2, 256, model_dir + \"/mlp1\")]"
   ]
  },
  {
   "cell_type": "code",
   "execution_count": 6,
   "metadata": {
    "collapsed": false
   },
   "outputs": [
    {
     "name": "stdout",
     "output_type": "stream",
     "text": [
      "10000/10000 [==============================] - 7s 672us/step\n",
      "10000/10000 [==============================] - 10s 1ms/step\n",
      "10000/10000 [==============================] - 13s 1ms/step\n",
      "10000/10000 [==============================] - 1s 60us/step\n",
      "10000/10000 [==============================] - 1s 68us/step\n"
     ]
    },
    {
     "data": {
      "text/plain": [
       "[[0.0576457683640132, 0.9874],\n",
       " [0.03487977762353567, 0.992],\n",
       " [0.034175702735514325, 0.9932],\n",
       " [0.1319694802839309, 0.9614],\n",
       " [0.07794954743353882, 0.9757]]"
      ]
     },
     "execution_count": 6,
     "metadata": {},
     "output_type": "execute_result"
    }
   ],
   "source": [
    "[model.evaluate(data.test_data, data.test_labels) for model in models]"
   ]
  },
  {
   "cell_type": "code",
   "execution_count": 7,
   "metadata": {
    "collapsed": false
   },
   "outputs": [
    {
     "name": "stdout",
     "output_type": "stream",
     "text": [
      "100/100 [==============================] - 0s 827us/step\n",
      "100/100 [==============================] - 0s 1ms/step\n",
      "100/100 [==============================] - 0s 1ms/step\n",
      "100/100 [==============================] - 0s 73us/step\n",
      "100/100 [==============================] - 0s 107us/step\n"
     ]
    },
    {
     "data": {
      "text/plain": [
       "[[0.0007815231964968916, 1.0],\n",
       " [0.0009589233167935163, 1.0],\n",
       " [9.794235913432203e-05, 1.0],\n",
       " [0.00961893867701292, 1.0],\n",
       " [0.008963608406484127, 1.0]]"
      ]
     },
     "execution_count": 7,
     "metadata": {},
     "output_type": "execute_result"
    }
   ],
   "source": [
    "[model.evaluate(X_exp, Y_exp) for model in models]"
   ]
  },
  {
   "cell_type": "code",
   "execution_count": 53,
   "metadata": {
    "collapsed": false
   },
   "outputs": [
    {
     "name": "stdout",
     "output_type": "stream",
     "text": [
      "4570.92199111\n"
     ]
    }
   ],
   "source": [
    "s = time.time()\n",
    "alpha = 20\n",
    "lr = .1\n",
    "opt_iters=3000\n",
    "\n",
    "with tf.Session() as sess:\n",
    "    \n",
    "    model_dir = \"deep_networks\"\n",
    "    models = [conv_net(False, 2, 200, model_dir + \"/conv0\"), conv_net(True, 2, 200, model_dir + \"/conv1\"), \n",
    "              conv_net(True, 4, 64, model_dir + \"/conv2\"), multilayer(4, 128, model_dir + \"/mlp0\"),\n",
    "              multilayer(2, 256, model_dir + \"/mlp1\")]\n",
    "    model_input = Input(shape=models[0].input_shape[1:])\n",
    "    ensemble = ensembleModels(models, model_input)\n",
    "    ensemble.compile(optimizer=\"adam\", loss='categorical_crossentropy', metrics=['accuracy'])\n",
    "#     print [model.evaluate(X_exp, Y_exp) for model in models]\n",
    "#     print ensemble.evaluate(X_exp, Y_exp)\n",
    "    attack_obj = GradientDescentDL(sess, [ensemble], alpha, (28, 1, 10), (-.5, .5), \n",
    "                                   targeted=False, batch_size=1, max_iterations=opt_iters,\n",
    "                                   learning_rate=lr, confidence=0)\n",
    "    noise_func = partial(gradientDescentFunc, attack=attack_obj)\n",
    "    \n",
    "    ens = adversary(np.array([1.0]), [ensemble], X_exp, Y_exp, alpha, noise_func, False)\n",
    "print time.time() - s\n"
   ]
  },
  {
   "cell_type": "code",
   "execution_count": null,
   "metadata": {
    "collapsed": true
   },
   "outputs": [],
   "source": [
    "np.save(\"ensemble_sol_mnist_dl_untargeted_2_8.npy\", V)"
   ]
  },
  {
   "cell_type": "code",
   "execution_count": 57,
   "metadata": {
    "collapsed": true
   },
   "outputs": [],
   "source": [
    "model_dir = \"deep_networks\"\n",
    "models = [conv_net(False, 2, 200, model_dir + \"/conv0\"), conv_net(True, 2, 200, model_dir + \"/conv1\"), \n",
    "          conv_net(True, 4, 64, model_dir + \"/conv2\"), multilayer(4, 128, model_dir + \"/mlp0\"),\n",
    "          multilayer(2, 256, model_dir + \"/mlp1\")]"
   ]
  },
  {
   "cell_type": "code",
   "execution_count": null,
   "metadata": {
    "collapsed": false
   },
   "outputs": [],
   "source": [
    "ensemble_noise_ut = np.load(\"ensemble_sol_mnist_dl_untargeted_2_8.npy\")"
   ]
  },
  {
   "cell_type": "code",
   "execution_count": 58,
   "metadata": {
    "collapsed": false
   },
   "outputs": [
    {
     "name": "stdout",
     "output_type": "stream",
     "text": [
      "100/100 [==============================] - 2s 17ms/step\n",
      "100/100 [==============================] - 1s 8ms/step\n",
      "100/100 [==============================] - 1s 8ms/step\n",
      "100/100 [==============================] - 1s 7ms/step\n",
      "100/100 [==============================] - 1s 9ms/step\n"
     ]
    }
   ],
   "source": [
    "ensemble_res_ut_full = [model.evaluate(X_exp + ens, Y_exp)[1] for model in models]"
   ]
  },
  {
   "cell_type": "code",
   "execution_count": 61,
   "metadata": {
    "collapsed": true
   },
   "outputs": [],
   "source": [
    "np.save(\"yaron_ensemble_comparison.npy\", ens)"
   ]
  },
  {
   "cell_type": "code",
   "execution_count": 63,
   "metadata": {
    "collapsed": false
   },
   "outputs": [],
   "source": [
    "noised_ims = X_exp + ens"
   ]
  },
  {
   "cell_type": "code",
   "execution_count": 68,
   "metadata": {
    "collapsed": true
   },
   "outputs": [],
   "source": [
    "from scipy.misc import imsave, imresize"
   ]
  },
  {
   "cell_type": "code",
   "execution_count": 69,
   "metadata": {
    "collapsed": false
   },
   "outputs": [
    {
     "name": "stderr",
     "output_type": "stream",
     "text": [
      "/Users/juanperdomo/anaconda/lib/python2.7/site-packages/ipykernel/__main__.py:2: DeprecationWarning: `imresize` is deprecated!\n",
      "`imresize` is deprecated in SciPy 1.0.0, and will be removed in 1.2.0.\n",
      "Use ``skimage.transform.resize`` instead.\n",
      "  from ipykernel import kernelapp as app\n",
      "/Users/juanperdomo/anaconda/lib/python2.7/site-packages/ipykernel/__main__.py:2: DeprecationWarning: `imsave` is deprecated!\n",
      "`imsave` is deprecated in SciPy 1.0.0, and will be removed in 1.2.0.\n",
      "Use ``imageio.imwrite`` instead.\n",
      "  from ipykernel import kernelapp as app\n"
     ]
    }
   ],
   "source": [
    "for i, im in enumerate(noised_ims):\n",
    "    imsave(\"yaron_pictures/ensemble/{}.png\".format(i), imresize(im.reshape(28,28), (300, 300)))"
   ]
  },
  {
   "cell_type": "code",
   "execution_count": 64,
   "metadata": {
    "collapsed": false
   },
   "outputs": [
    {
     "data": {
      "text/plain": [
       "(100, 28, 28, 1)"
      ]
     },
     "execution_count": 64,
     "metadata": {},
     "output_type": "execute_result"
    }
   ],
   "source": [
    "noised_ims.shape"
   ]
  },
  {
   "cell_type": "code",
   "execution_count": 54,
   "metadata": {
    "collapsed": false
   },
   "outputs": [],
   "source": [
    "t = [np.linalg.norm(x) for x in ens]"
   ]
  },
  {
   "cell_type": "code",
   "execution_count": 55,
   "metadata": {
    "collapsed": false
   },
   "outputs": [
    {
     "data": {
      "text/plain": [
       "5.140512"
      ]
     },
     "execution_count": 55,
     "metadata": {},
     "output_type": "execute_result"
    }
   ],
   "source": [
    "np.mean(t)"
   ]
  },
  {
   "cell_type": "code",
   "execution_count": 59,
   "metadata": {
    "collapsed": false
   },
   "outputs": [
    {
     "data": {
      "text/plain": [
       "[0.48, 0.43, 0.5, 0.03, 0.04]"
      ]
     },
     "execution_count": 59,
     "metadata": {},
     "output_type": "execute_result"
    }
   ],
   "source": [
    "ensemble_res_ut_full"
   ]
  },
  {
   "cell_type": "code",
   "execution_count": null,
   "metadata": {
    "collapsed": true
   },
   "outputs": [],
   "source": [
    "noised_ims = X_exp + ens"
   ]
  },
  {
   "cell_type": "code",
   "execution_count": 24,
   "metadata": {
    "collapsed": false
   },
   "outputs": [],
   "source": [
    "ensemble_res_ut = max(ensemble_res_ut_full)"
   ]
  },
  {
   "cell_type": "code",
   "execution_count": 25,
   "metadata": {
    "collapsed": false
   },
   "outputs": [
    {
     "data": {
      "text/plain": [
       "0.75"
      ]
     },
     "execution_count": 25,
     "metadata": {},
     "output_type": "execute_result"
    }
   ],
   "source": [
    "ensemble_res_ut"
   ]
  },
  {
   "cell_type": "markdown",
   "metadata": {},
   "source": [
    "Ensemble Baseline is .87"
   ]
  },
  {
   "cell_type": "code",
   "execution_count": null,
   "metadata": {
    "collapsed": true
   },
   "outputs": [],
   "source": [
    "alpha = 2.8\n",
    "lr = .001\n",
    "opt_iters=3000\n",
    "with tf.Session() as sess:\n",
    "    \n",
    "    model_dir = \"deep_networks\"\n",
    "    models = [conv_net(False, 2, 200, model_dir + \"/conv0\"), conv_net(True, 2, 200, model_dir + \"/conv1\"), \n",
    "              conv_net(True, 4, 64, model_dir + \"/conv2\"), multilayer(4, 128, model_dir + \"/mlp0\"),\n",
    "              multilayer(2, 256, model_dir + \"/mlp1\")]\n",
    "    model_input = Input(shape=models[0].input_shape[1:])\n",
    "    individual_noise = []\n",
    "    for model in models:\n",
    "        attack_obj = GradientDescentDL(sess, [model], alpha, (28, 1, 10), (-.5, .5), \n",
    "                                       targeted=False, batch_size=1, max_iterations=opt_iters,\n",
    "                                       learning_rate=lr, confidence=0)\n",
    "        noise_func = partial(gradientDescentFunc, attack=attack_obj)\n",
    "        V = adversary(np.array([1.0]), [model], X_exp, Y_exp, alpha, noise_func, False)\n",
    "        individual_noise.append(V)"
   ]
  },
  {
   "cell_type": "code",
   "execution_count": null,
   "metadata": {
    "collapsed": true
   },
   "outputs": [],
   "source": [
    "np.save(\"mnist_dl_individual_baselines.npy\", np.array(individual_noise))"
   ]
  },
  {
   "cell_type": "code",
   "execution_count": null,
   "metadata": {
    "collapsed": true
   },
   "outputs": [],
   "source": [
    "individual_noise_ut = np.load(\"mnist_dl_individual_baselines.npy\")"
   ]
  },
  {
   "cell_type": "code",
   "execution_count": null,
   "metadata": {
    "collapsed": false
   },
   "outputs": [],
   "source": [
    "best_individual_ut_full = ([([model.evaluate(X_exp + noise, Y_exp)[1] for model in models]) \n",
    "                           for noise in individual_noise_ut])"
   ]
  },
  {
   "cell_type": "code",
   "execution_count": null,
   "metadata": {
    "collapsed": false
   },
   "outputs": [],
   "source": [
    "best_individual_ut_full"
   ]
  },
  {
   "cell_type": "code",
   "execution_count": null,
   "metadata": {
    "collapsed": false
   },
   "outputs": [],
   "source": [
    "best_individual_ut = min([max(individual_res) for individual_res in best_individual_ut_full])"
   ]
  },
  {
   "cell_type": "code",
   "execution_count": null,
   "metadata": {
    "collapsed": false
   },
   "outputs": [],
   "source": [
    "best_individual_ut"
   ]
  },
  {
   "cell_type": "markdown",
   "metadata": {},
   "source": [
    "Best Individual Model is .99"
   ]
  },
  {
   "cell_type": "markdown",
   "metadata": {},
   "source": [
    "# Targeted"
   ]
  },
  {
   "cell_type": "code",
   "execution_count": null,
   "metadata": {
    "collapsed": false
   },
   "outputs": [],
   "source": [
    "alpha = 3.0\n",
    "lr = .001\n",
    "opt_iters=3000\n",
    "\n",
    "with tf.Session() as sess:\n",
    "    model_dir = \"deep_networks\"\n",
    "    models = [conv_net(False, 2, 200, model_dir + \"/conv0\"), conv_net(True, 2, 200, model_dir + \"/conv1\"), \n",
    "              conv_net(True, 4, 64, model_dir + \"/conv2\"), multilayer(4, 128, model_dir + \"/mlp0\"),\n",
    "              multilayer(2, 256, model_dir + \"/mlp1\")]\n",
    "    model_input = Input(shape=models[0].input_shape[1:])\n",
    "    ensemble = ensembleModels(models, model_input)\n",
    "    ensemble.compile(optimizer=\"adam\", loss='categorical_crossentropy', metrics=['accuracy'])\n",
    "    print [model.evaluate(X_exp, Target_exp) for model in models]\n",
    "    print ensemble.evaluate(X_exp, Target_exp)\n",
    "    attack_obj = GradientDescentDL(sess, [ensemble], alpha, (28, 1, 10), (-.5, .5), \n",
    "                                   targeted=True, batch_size=1, max_iterations=opt_iters,\n",
    "                                   learning_rate=lr, confidence=0)\n",
    "    \n",
    "    noise_func = partial(gradientDescentFunc, attack=attack_obj)\n",
    "    targeted_ensemble = adversary(np.array([1.0]), [ensemble], X_exp, Y_exp, alpha, noise_func, Target_exp)"
   ]
  },
  {
   "cell_type": "code",
   "execution_count": null,
   "metadata": {
    "collapsed": false
   },
   "outputs": [],
   "source": [
    "np.save(\"ensemble_sol_mnist_dl_targeted_3_0.npy\", np.array(targeted_ensemble))"
   ]
  },
  {
   "cell_type": "code",
   "execution_count": null,
   "metadata": {
    "collapsed": true
   },
   "outputs": [],
   "source": [
    "ensemble_noise_t = np.load(\"ensemble_sol_mnist_dl_targeted_3_0.npy\")"
   ]
  },
  {
   "cell_type": "code",
   "execution_count": null,
   "metadata": {
    "collapsed": false
   },
   "outputs": [],
   "source": [
    "ensemble_res_t_full = [model.evaluate(X_exp + ensemble_noise_t, Target_exp)[1] for model in models]"
   ]
  },
  {
   "cell_type": "code",
   "execution_count": null,
   "metadata": {
    "collapsed": false
   },
   "outputs": [],
   "source": [
    "ensemble_res_t_full"
   ]
  },
  {
   "cell_type": "code",
   "execution_count": null,
   "metadata": {
    "collapsed": false
   },
   "outputs": [],
   "source": [
    "ensemble_res_t = min(ensemble_res_t_full)"
   ]
  },
  {
   "cell_type": "code",
   "execution_count": null,
   "metadata": {
    "collapsed": false
   },
   "outputs": [],
   "source": [
    "ensemble_res_t"
   ]
  },
  {
   "cell_type": "markdown",
   "metadata": {},
   "source": [
    "Targeted Ensemble Baseline is 0.04"
   ]
  },
  {
   "cell_type": "code",
   "execution_count": null,
   "metadata": {
    "collapsed": true
   },
   "outputs": [],
   "source": [
    "alpha = 3.0\n",
    "lr = .001\n",
    "opt_iters=3000\n",
    "with tf.Session() as sess:\n",
    "    model_dir = \"deep_networks\"\n",
    "    models = [conv_net(False, 2, 200, model_dir + \"/conv0\"), conv_net(True, 2, 200, model_dir + \"/conv1\"), \n",
    "              conv_net(True, 4, 64, model_dir + \"/conv2\"), multilayer(4, 128, model_dir + \"/mlp0\"),\n",
    "              multilayer(2, 256, model_dir + \"/mlp1\")]\n",
    "    individual_noise_targeted = []\n",
    "    for model in models:\n",
    "        attack_obj = GradientDescentDL(sess, [model], alpha, (28, 1, 10), (-.5, .5), \n",
    "                                       targeted=True, batch_size=1, max_iterations=opt_iters,\n",
    "                                       learning_rate=lr, confidence=0)\n",
    "        noise_func = partial(gradientDescentFunc, attack=attack_obj)\n",
    "        noise = adversary(np.array([1.0]), [model], X_exp, Y_exp, alpha, noise_func, Target_exp)\n",
    "        individual_noise_targeted.append(noise)"
   ]
  },
  {
   "cell_type": "code",
   "execution_count": null,
   "metadata": {
    "collapsed": false
   },
   "outputs": [],
   "source": [
    "np.save(\"mnist_dl_individual_baselines_targeted.npy\", np.array(individual_noise_targeted))"
   ]
  },
  {
   "cell_type": "code",
   "execution_count": null,
   "metadata": {
    "collapsed": true
   },
   "outputs": [],
   "source": [
    "individual_noise_t = np.load(\"mnist_dl_individual_baselines_targeted.npy\")"
   ]
  },
  {
   "cell_type": "code",
   "execution_count": null,
   "metadata": {
    "collapsed": false
   },
   "outputs": [],
   "source": [
    "individual_noise_t_full = ([([model.evaluate(X_exp + noise, Target_exp)[1] for model in models]) \n",
    "                             for noise in individual_noise_t])"
   ]
  },
  {
   "cell_type": "code",
   "execution_count": null,
   "metadata": {
    "collapsed": false
   },
   "outputs": [],
   "source": [
    "individual_noise_t_full"
   ]
  },
  {
   "cell_type": "code",
   "execution_count": null,
   "metadata": {
    "collapsed": false
   },
   "outputs": [],
   "source": [
    "best_individual_t = max([min(res) for res in individual_noise_t_full])"
   ]
  },
  {
   "cell_type": "code",
   "execution_count": null,
   "metadata": {
    "collapsed": false
   },
   "outputs": [],
   "source": [
    "best_individual_t"
   ]
  },
  {
   "cell_type": "markdown",
   "metadata": {},
   "source": [
    "Max_Model baseline is 0 for MNIST"
   ]
  },
  {
   "cell_type": "code",
   "execution_count": null,
   "metadata": {
    "collapsed": true
   },
   "outputs": [],
   "source": [
    "min_acc_t = np.load(\"deepLearning-mnist-targeted-3.0-2-4-2033/acc_history.npy\")"
   ]
  },
  {
   "cell_type": "code",
   "execution_count": null,
   "metadata": {
    "collapsed": true
   },
   "outputs": [],
   "source": [
    "noise_mwu_t = np.load(\"deepLearning-mnist-targeted-3.0-2-4-2033/noise.npy\")"
   ]
  },
  {
   "cell_type": "code",
   "execution_count": null,
   "metadata": {
    "collapsed": false
   },
   "outputs": [],
   "source": [
    "mwu_t_results = [[model.evaluate(X_exp + noise, Target_exp)[1] for model in models] for noise in noise_mwu_t]"
   ]
  },
  {
   "cell_type": "code",
   "execution_count": null,
   "metadata": {
    "collapsed": true
   },
   "outputs": [],
   "source": [
    "mwu_t_results = np.array(mwu_t_results)"
   ]
  },
  {
   "cell_type": "code",
   "execution_count": null,
   "metadata": {
    "collapsed": false
   },
   "outputs": [],
   "source": [
    "np.mean(mwu_t_results, axis=0)"
   ]
  },
  {
   "cell_type": "code",
   "execution_count": null,
   "metadata": {
    "collapsed": false
   },
   "outputs": [],
   "source": [
    "num_iters = 50\n",
    "plt.plot(range(num_iters), min_acc_t, color=\"orange\")\n",
    "plt.plot(range(num_iters), [ensemble_res_t] * num_iters, linestyle=\"--\", color=\"purple\")\n",
    "# plt.plot(range(num_iters), [best_individual_t] * num_iters, linestyle=\"--\", color=\"black\")\n",
    "plt.legend([\"untargeted loss\", \"ensemble baseline\", \"individual baseline\"], loc=\"right\", \n",
    "           bbox_to_anchor=(.95,.4), fontsize=12)\n",
    "plt.title(\"Universal Noise Deep Learning: MNIST\")\n",
    "plt.ylabel(\"Max Accuracy\")\n",
    "plt.xlabel(\"MWU Round\")"
   ]
  },
  {
   "cell_type": "code",
   "execution_count": null,
   "metadata": {
    "collapsed": true
   },
   "outputs": [],
   "source": []
  },
  {
   "cell_type": "code",
   "execution_count": null,
   "metadata": {
    "collapsed": true
   },
   "outputs": [],
   "source": []
  },
  {
   "cell_type": "code",
   "execution_count": null,
   "metadata": {
    "collapsed": true
   },
   "outputs": [],
   "source": []
  },
  {
   "cell_type": "code",
   "execution_count": null,
   "metadata": {
    "collapsed": true
   },
   "outputs": [],
   "source": []
  },
  {
   "cell_type": "code",
   "execution_count": null,
   "metadata": {
    "collapsed": true
   },
   "outputs": [],
   "source": []
  },
  {
   "cell_type": "code",
   "execution_count": null,
   "metadata": {
    "collapsed": true
   },
   "outputs": [],
   "source": []
  },
  {
   "cell_type": "code",
   "execution_count": null,
   "metadata": {
    "collapsed": true
   },
   "outputs": [],
   "source": []
  },
  {
   "cell_type": "markdown",
   "metadata": {},
   "source": [
    "# NEed to move these cells up"
   ]
  },
  {
   "cell_type": "code",
   "execution_count": null,
   "metadata": {
    "collapsed": true
   },
   "outputs": [],
   "source": [
    "max_acc_ut = np.load(\"deepLearning-mnist-untargeted-2.8-2-4-1951/acc_history.npy\")"
   ]
  },
  {
   "cell_type": "code",
   "execution_count": null,
   "metadata": {
    "collapsed": false
   },
   "outputs": [],
   "source": [
    "num_iters = 50\n",
    "ensemble_res = .99\n",
    "plt.plot(range(num_iters), max_acc_ut, color=\"orange\")\n",
    "plt.plot(range(num_iters), [ensemble_res_ut] * num_iters, linestyle=\"--\", color=\"purple\")\n",
    "plt.plot(range(num_iters), [best_individual_ut] * num_iters, linestyle=\"--\", color=\"black\")\n",
    "plt.legend([\"untargeted loss\", \"ensemble baseline\", \"individual baseline\"], loc=\"right\", \n",
    "           bbox_to_anchor=(.95,.4), fontsize=12)\n",
    "plt.title(\"Universal Noise Deep Learning: MNIST\")\n",
    "plt.ylabel(\"Max Accuracy\")\n",
    "plt.xlabel(\"MWU Round\")"
   ]
  },
  {
   "cell_type": "code",
   "execution_count": null,
   "metadata": {
    "collapsed": true
   },
   "outputs": [],
   "source": [
    "mwu_noise = np.load(\"deepLearning-mnist-untargeted-2.8-2-4-1951/noise.npy\")"
   ]
  },
  {
   "cell_type": "code",
   "execution_count": null,
   "metadata": {
    "collapsed": false
   },
   "outputs": [],
   "source": [
    "mwu_accuracies = [[model.evaluate(X_exp + noise, Y_exp)[1] for model in models] for noise in mwu_noise]"
   ]
  },
  {
   "cell_type": "code",
   "execution_count": null,
   "metadata": {
    "collapsed": true
   },
   "outputs": [],
   "source": [
    "mwu_accuracies = np.array(mwu_accuracies)"
   ]
  },
  {
   "cell_type": "code",
   "execution_count": null,
   "metadata": {
    "collapsed": false
   },
   "outputs": [],
   "source": [
    "np.mean(mwu_accuracies, axis=0)"
   ]
  },
  {
   "cell_type": "code",
   "execution_count": null,
   "metadata": {
    "collapsed": true
   },
   "outputs": [],
   "source": []
  }
 ],
 "metadata": {
  "anaconda-cloud": {},
  "kernelspec": {
   "display_name": "Python [default]",
   "language": "python",
   "name": "python2"
  },
  "language_info": {
   "codemirror_mode": {
    "name": "ipython",
    "version": 2
   },
   "file_extension": ".py",
   "mimetype": "text/x-python",
   "name": "python",
   "nbconvert_exporter": "python",
   "pygments_lexer": "ipython2",
   "version": "2.7.12"
  }
 },
 "nbformat": 4,
 "nbformat_minor": 1
}
