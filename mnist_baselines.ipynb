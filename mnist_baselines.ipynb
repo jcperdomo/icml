{
 "cells": [
  {
   "cell_type": "code",
   "execution_count": 1,
   "metadata": {
    "collapsed": false
   },
   "outputs": [
    {
     "name": "stderr",
     "output_type": "stream",
     "text": [
      "Using TensorFlow backend.\n"
     ]
    }
   ],
   "source": [
    "import numpy as np\n",
    "from setup_mnist import *\n",
    "from keras.models import Input, Model\n",
    "from keras.layers import Average\n",
    "import tensorflow as tf\n",
    "from noise_functions_dl import GradientDescentDL, gradientDescentFunc\n",
    "from functools import partial\n",
    "from mwu import adversary\n",
    "import matplotlib.pyplot as plt\n",
    "%matplotlib inline"
   ]
  },
  {
   "cell_type": "code",
   "execution_count": 2,
   "metadata": {
    "collapsed": false
   },
   "outputs": [],
   "source": [
    "data = MNIST()\n",
    "X_exp = np.load(\"multiclass_data_2/X_exp.npy\")\n",
    "Y_exp = np.load(\"multiclass_data_2/Y_exp.npy\")\n",
    "Target_exp = np.load(\"multiclass_data_2/Target_exp.npy\")"
   ]
  },
  {
   "cell_type": "code",
   "execution_count": 3,
   "metadata": {
    "collapsed": false
   },
   "outputs": [],
   "source": [
    "X_exp = X_exp.reshape(-1, 28, 28, 1)\n",
    "Y_exp = np.array([(np.arange(10) == l).astype(np.float32) for l in Y_exp])\n",
    "Target_exp = np.array([(np.arange(10) == l).astype(np.float32) for l in Target_exp])"
   ]
  },
  {
   "cell_type": "code",
   "execution_count": 6,
   "metadata": {
    "collapsed": true
   },
   "outputs": [],
   "source": [
    "def ensembleModels(models, model_input):\n",
    "    # taken from https://medium.com/@twt446/ensemble-and-store-models-in-keras-2-x-b881a6d7693f\n",
    "    # collect outputs of models in a list\n",
    "    yModels=[model(model_input) for model in models] \n",
    "    # averaging outputs\n",
    "    yAvg=Average()(yModels) \n",
    "    # build model from same input and avg output\n",
    "    modelEns = Model(inputs=model_input, outputs=yAvg, name='ensemble')  \n",
    "    return modelEns"
   ]
  },
  {
   "cell_type": "code",
   "execution_count": 7,
   "metadata": {
    "collapsed": false
   },
   "outputs": [],
   "source": [
    "model_dir = \"deep_networks\"\n",
    "models = [conv_net(False, 2, 200, model_dir + \"/conv0\"), conv_net(True, 2, 200, model_dir + \"/conv1\"), \n",
    "          conv_net(True, 4, 64, model_dir + \"/conv2\"), multilayer(4, 128, model_dir + \"/mlp0\"),\n",
    "          multilayer(2, 256, model_dir + \"/mlp1\")]"
   ]
  },
  {
   "cell_type": "code",
   "execution_count": 65,
   "metadata": {
    "collapsed": false
   },
   "outputs": [
    {
     "name": "stdout",
     "output_type": "stream",
     "text": [
      "10000/10000 [==============================] - 8s 775us/step\n",
      "10000/10000 [==============================] - 10s 954us/step\n",
      "10000/10000 [==============================] - 10s 959us/step\n",
      "10000/10000 [==============================] - 1s 64us/step\n",
      "10000/10000 [==============================] - 1s 67us/step\n"
     ]
    },
    {
     "data": {
      "text/plain": [
       "[[0.0576457683640132, 0.9874],\n",
       " [0.03487977762353567, 0.992],\n",
       " [0.034175702735514325, 0.9932],\n",
       " [0.1319694802839309, 0.9614],\n",
       " [0.07794954743353882, 0.9757]]"
      ]
     },
     "execution_count": 65,
     "metadata": {},
     "output_type": "execute_result"
    }
   ],
   "source": [
    "[model.evaluate(data.test_data, data.test_labels) for model in models]"
   ]
  },
  {
   "cell_type": "code",
   "execution_count": 6,
   "metadata": {
    "collapsed": false
   },
   "outputs": [
    {
     "name": "stdout",
     "output_type": "stream",
     "text": [
      "100/100 [==============================] - 0s 2ms/step\n",
      "100/100 [==============================] - 0s 1ms/step\n",
      "100/100 [==============================] - 0s 1ms/step\n",
      "100/100 [==============================] - 0s 487us/step\n",
      "100/100 [==============================] - 0s 522us/step\n"
     ]
    },
    {
     "data": {
      "text/plain": [
       "[[0.0007815231964968916, 1.0],\n",
       " [0.0009589233167935163, 1.0],\n",
       " [9.794235913432203e-05, 1.0],\n",
       " [0.00961893867701292, 1.0],\n",
       " [0.008963608406484127, 1.0]]"
      ]
     },
     "execution_count": 6,
     "metadata": {},
     "output_type": "execute_result"
    }
   ],
   "source": [
    "[model.evaluate(X_exp, Y_exp) for model in models]"
   ]
  },
  {
   "cell_type": "code",
   "execution_count": 7,
   "metadata": {
    "collapsed": false
   },
   "outputs": [
    {
     "name": "stdout",
     "output_type": "stream",
     "text": [
      "100/100 [==============================] - 0s 4ms/step\n",
      "100/100 [==============================] - 0s 2ms/step\n",
      "100/100 [==============================] - 0s 2ms/step\n",
      "100/100 [==============================] - 0s 789us/step\n",
      "100/100 [==============================] - 0s 858us/step\n",
      "[[0.0007815231964968916, 1.0], [0.0009589233167935163, 1.0], [9.794235913432203e-05, 1.0], [0.00961893867701292, 1.0], [0.008963608406484127, 1.0]]\n",
      "100/100 [==============================] - 0s 3ms/step\n",
      "[0.00391148978844285, 1.0]\n"
     ]
    }
   ],
   "source": [
    "alpha = 2.8\n",
    "lr = .001\n",
    "opt_iters=3000\n",
    "\n",
    "with tf.Session() as sess:\n",
    "    \n",
    "    model_dir = \"deep_networks\"\n",
    "    models = [conv_net(False, 2, 200, model_dir + \"/conv0\"), conv_net(True, 2, 200, model_dir + \"/conv1\"), \n",
    "              conv_net(True, 4, 64, model_dir + \"/conv2\"), multilayer(4, 128, model_dir + \"/mlp0\"),\n",
    "              multilayer(2, 256, model_dir + \"/mlp1\")]\n",
    "    model_input = Input(shape=models[0].input_shape[1:])\n",
    "    ensemble = ensembleModels(models, model_input)\n",
    "    ensemble.compile(optimizer=\"adam\", loss='categorical_crossentropy', metrics=['accuracy'])\n",
    "    print [model.evaluate(X_exp, Y_exp) for model in models]\n",
    "    print ensemble.evaluate(X_exp, Y_exp)\n",
    "    attack_obj = GradientDescentDL(sess, [ensemble], alpha, (28, 1, 10), (-.5, .5), \n",
    "                                   targeted=False, batch_size=1, max_iterations=opt_iters,\n",
    "                                   learning_rate=lr, confidence=0)\n",
    "    \n",
    "    noise_func = partial(gradientDescentFunc, attack=attack_obj)\n",
    "    \n",
    "    V = adversary(np.array([1.0]), [ensemble], X_exp, Y_exp, alpha, noise_func, False)"
   ]
  },
  {
   "cell_type": "code",
   "execution_count": 8,
   "metadata": {
    "collapsed": true
   },
   "outputs": [],
   "source": [
    "np.save(\"ensemble_sol_mnist_dl_untargeted_2_8.npy\", V)"
   ]
  },
  {
   "cell_type": "code",
   "execution_count": 56,
   "metadata": {
    "collapsed": true
   },
   "outputs": [],
   "source": [
    "model_dir = \"deep_networks\"\n",
    "models = [conv_net(False, 2, 200, model_dir + \"/conv0\"), conv_net(True, 2, 200, model_dir + \"/conv1\"), \n",
    "          conv_net(True, 4, 64, model_dir + \"/conv2\"), multilayer(4, 128, model_dir + \"/mlp0\"),\n",
    "          multilayer(2, 256, model_dir + \"/mlp1\")]"
   ]
  },
  {
   "cell_type": "code",
   "execution_count": 70,
   "metadata": {
    "collapsed": false
   },
   "outputs": [],
   "source": [
    "ensemble_noise_ut = np.load(\"ensemble_sol_mnist_dl_untargeted_2_8.npy\")"
   ]
  },
  {
   "cell_type": "code",
   "execution_count": 94,
   "metadata": {
    "collapsed": false
   },
   "outputs": [
    {
     "name": "stdout",
     "output_type": "stream",
     "text": [
      "100/100 [==============================] - 0s 949us/step\n",
      "100/100 [==============================] - 0s 2ms/step\n",
      "100/100 [==============================] - 0s 1ms/step\n",
      "100/100 [==============================] - 0s 88us/step\n",
      "100/100 [==============================] - 0s 141us/step\n"
     ]
    }
   ],
   "source": [
    "ensemble_res_ut_full = [model.evaluate(X_exp + ensemble_noise_ut, Y_exp)[1] for model in models]"
   ]
  },
  {
   "cell_type": "code",
   "execution_count": 98,
   "metadata": {
    "collapsed": false
   },
   "outputs": [
    {
     "data": {
      "text/plain": [
       "[0.79, 0.79, 0.87, 0.05, 0.11]"
      ]
     },
     "execution_count": 98,
     "metadata": {},
     "output_type": "execute_result"
    }
   ],
   "source": [
    "ensemble_res_ut_full"
   ]
  },
  {
   "cell_type": "code",
   "execution_count": 95,
   "metadata": {
    "collapsed": false
   },
   "outputs": [],
   "source": [
    "ensemble_res_ut = max(ensemble_res_ut_full)"
   ]
  },
  {
   "cell_type": "code",
   "execution_count": 74,
   "metadata": {
    "collapsed": false
   },
   "outputs": [
    {
     "data": {
      "text/plain": [
       "0.87"
      ]
     },
     "execution_count": 74,
     "metadata": {},
     "output_type": "execute_result"
    }
   ],
   "source": [
    "ensemble_res_ut"
   ]
  },
  {
   "cell_type": "markdown",
   "metadata": {},
   "source": [
    "Ensemble Baseline is .87"
   ]
  },
  {
   "cell_type": "code",
   "execution_count": 15,
   "metadata": {
    "collapsed": true
   },
   "outputs": [],
   "source": [
    "alpha = 2.8\n",
    "lr = .001\n",
    "opt_iters=3000\n",
    "with tf.Session() as sess:\n",
    "    \n",
    "    model_dir = \"deep_networks\"\n",
    "    models = [conv_net(False, 2, 200, model_dir + \"/conv0\"), conv_net(True, 2, 200, model_dir + \"/conv1\"), \n",
    "              conv_net(True, 4, 64, model_dir + \"/conv2\"), multilayer(4, 128, model_dir + \"/mlp0\"),\n",
    "              multilayer(2, 256, model_dir + \"/mlp1\")]\n",
    "    model_input = Input(shape=models[0].input_shape[1:])\n",
    "    individual_noise = []\n",
    "    for model in models:\n",
    "        attack_obj = GradientDescentDL(sess, [model], alpha, (28, 1, 10), (-.5, .5), \n",
    "                                       targeted=False, batch_size=1, max_iterations=opt_iters,\n",
    "                                       learning_rate=lr, confidence=0)\n",
    "        noise_func = partial(gradientDescentFunc, attack=attack_obj)\n",
    "        V = adversary(np.array([1.0]), [model], X_exp, Y_exp, alpha, noise_func, False)\n",
    "        individual_noise.append(V)"
   ]
  },
  {
   "cell_type": "code",
   "execution_count": 40,
   "metadata": {
    "collapsed": true
   },
   "outputs": [],
   "source": [
    "np.save(\"mnist_dl_individual_baselines.npy\", np.array(individual_noise))"
   ]
  },
  {
   "cell_type": "code",
   "execution_count": 76,
   "metadata": {
    "collapsed": true
   },
   "outputs": [],
   "source": [
    "individual_noise_ut = np.load(\"mnist_dl_individual_baselines.npy\")"
   ]
  },
  {
   "cell_type": "code",
   "execution_count": 8,
   "metadata": {
    "collapsed": false
   },
   "outputs": [
    {
     "ename": "NameError",
     "evalue": "name 'individual_noise_ut' is not defined",
     "output_type": "error",
     "traceback": [
      "\u001b[0;31m---------------------------------------------------------------------------\u001b[0m",
      "\u001b[0;31mNameError\u001b[0m                                 Traceback (most recent call last)",
      "\u001b[0;32m<ipython-input-8-94224325917a>\u001b[0m in \u001b[0;36m<module>\u001b[0;34m()\u001b[0m\n\u001b[1;32m      1\u001b[0m best_individual_ut_full = ([([model.evaluate(X_exp + noise, Y_exp)[1] for model in models]) \n\u001b[0;32m----> 2\u001b[0;31m                            for noise in individual_noise_ut])\n\u001b[0m",
      "\u001b[0;31mNameError\u001b[0m: name 'individual_noise_ut' is not defined"
     ]
    }
   ],
   "source": [
    "best_individual_ut_full = ([([model.evaluate(X_exp + noise, Y_exp)[1] for model in models]) \n",
    "                           for noise in individual_noise_ut])"
   ]
  },
  {
   "cell_type": "code",
   "execution_count": 88,
   "metadata": {
    "collapsed": false
   },
   "outputs": [
    {
     "data": {
      "text/plain": [
       "[[0.36, 1.0, 1.0, 0.99, 1.0],\n",
       " [0.99, 0.12, 1.0, 0.99, 0.99],\n",
       " [0.97, 0.97, 0.3, 0.98, 0.99],\n",
       " [1.0, 1.0, 1.0, 0.04, 0.93],\n",
       " [1.0, 1.0, 1.0, 0.84, 0.05]]"
      ]
     },
     "execution_count": 88,
     "metadata": {},
     "output_type": "execute_result"
    }
   ],
   "source": [
    "best_individual_ut_full"
   ]
  },
  {
   "cell_type": "code",
   "execution_count": 86,
   "metadata": {
    "collapsed": false
   },
   "outputs": [],
   "source": [
    "best_individual_ut = min([max(individual_res) for individual_res in best_individual_ut_full])"
   ]
  },
  {
   "cell_type": "code",
   "execution_count": 93,
   "metadata": {
    "collapsed": false
   },
   "outputs": [
    {
     "data": {
      "text/plain": [
       "0.99"
      ]
     },
     "execution_count": 93,
     "metadata": {},
     "output_type": "execute_result"
    }
   ],
   "source": [
    "best_individual_ut"
   ]
  },
  {
   "cell_type": "markdown",
   "metadata": {},
   "source": [
    "Best Individual Model is .99"
   ]
  },
  {
   "cell_type": "markdown",
   "metadata": {},
   "source": [
    "# Targeted"
   ]
  },
  {
   "cell_type": "code",
   "execution_count": 43,
   "metadata": {
    "collapsed": false
   },
   "outputs": [
    {
     "name": "stdout",
     "output_type": "stream",
     "text": [
      "100/100 [==============================] - 1s 9ms/step\n",
      "100/100 [==============================] - 0s 4ms/step\n",
      "100/100 [==============================] - 0s 3ms/step\n",
      "100/100 [==============================] - 0s 3ms/step\n",
      "100/100 [==============================] - 0s 3ms/step\n",
      "[[15.556627197265625, 0.0], [15.009902305603028, 0.0], [15.542401428222655, 0.0], [11.18965087890625, 0.0], [13.649660949707032, 0.0]]\n",
      "100/100 [==============================] - 1s 7ms/step\n",
      "[11.793057594299317, 0.0]\n"
     ]
    }
   ],
   "source": [
    "alpha = 3.0\n",
    "lr = .001\n",
    "opt_iters=3000\n",
    "\n",
    "with tf.Session() as sess:\n",
    "    model_dir = \"deep_networks\"\n",
    "    models = [conv_net(False, 2, 200, model_dir + \"/conv0\"), conv_net(True, 2, 200, model_dir + \"/conv1\"), \n",
    "              conv_net(True, 4, 64, model_dir + \"/conv2\"), multilayer(4, 128, model_dir + \"/mlp0\"),\n",
    "              multilayer(2, 256, model_dir + \"/mlp1\")]\n",
    "    model_input = Input(shape=models[0].input_shape[1:])\n",
    "    ensemble = ensembleModels(models, model_input)\n",
    "    ensemble.compile(optimizer=\"adam\", loss='categorical_crossentropy', metrics=['accuracy'])\n",
    "    print [model.evaluate(X_exp, Target_exp) for model in models]\n",
    "    print ensemble.evaluate(X_exp, Target_exp)\n",
    "    attack_obj = GradientDescentDL(sess, [ensemble], alpha, (28, 1, 10), (-.5, .5), \n",
    "                                   targeted=True, batch_size=1, max_iterations=opt_iters,\n",
    "                                   learning_rate=lr, confidence=0)\n",
    "    \n",
    "    noise_func = partial(gradientDescentFunc, attack=attack_obj)\n",
    "    targeted_ensemble = adversary(np.array([1.0]), [ensemble], X_exp, Y_exp, alpha, noise_func, Target_exp)"
   ]
  },
  {
   "cell_type": "code",
   "execution_count": 46,
   "metadata": {
    "collapsed": false
   },
   "outputs": [],
   "source": [
    "np.save(\"ensemble_sol_mnist_dl_targeted_3_0.npy\", np.array(targeted_ensemble))"
   ]
  },
  {
   "cell_type": "code",
   "execution_count": 10,
   "metadata": {
    "collapsed": true
   },
   "outputs": [],
   "source": [
    "ensemble_noise_t = np.load(\"ensemble_sol_mnist_dl_targeted_3_0.npy\")"
   ]
  },
  {
   "cell_type": "code",
   "execution_count": 11,
   "metadata": {
    "collapsed": false
   },
   "outputs": [
    {
     "name": "stdout",
     "output_type": "stream",
     "text": [
      "100/100 [==============================] - 0s 3ms/step\n",
      "100/100 [==============================] - 0s 1ms/step\n",
      "100/100 [==============================] - 0s 1ms/step\n",
      "100/100 [==============================] - 0s 495us/step\n",
      "100/100 [==============================] - 0s 515us/step\n"
     ]
    }
   ],
   "source": [
    "ensemble_res_t_full = [model.evaluate(X_exp + ensemble_noise_t, Target_exp)[1] for model in models]"
   ]
  },
  {
   "cell_type": "code",
   "execution_count": 12,
   "metadata": {
    "collapsed": false
   },
   "outputs": [
    {
     "data": {
      "text/plain": [
       "[0.11, 0.09, 0.04, 0.43, 0.44]"
      ]
     },
     "execution_count": 12,
     "metadata": {},
     "output_type": "execute_result"
    }
   ],
   "source": [
    "ensemble_res_t_full"
   ]
  },
  {
   "cell_type": "code",
   "execution_count": 13,
   "metadata": {
    "collapsed": false
   },
   "outputs": [],
   "source": [
    "ensemble_res_t = min(ensemble_res_t_full)"
   ]
  },
  {
   "cell_type": "code",
   "execution_count": 14,
   "metadata": {
    "collapsed": false
   },
   "outputs": [
    {
     "data": {
      "text/plain": [
       "0.04"
      ]
     },
     "execution_count": 14,
     "metadata": {},
     "output_type": "execute_result"
    }
   ],
   "source": [
    "ensemble_res_t"
   ]
  },
  {
   "cell_type": "markdown",
   "metadata": {},
   "source": [
    "Targeted Ensemble Baseline is 0.04"
   ]
  },
  {
   "cell_type": "code",
   "execution_count": 53,
   "metadata": {
    "collapsed": true
   },
   "outputs": [],
   "source": [
    "alpha = 3.0\n",
    "lr = .001\n",
    "opt_iters=3000\n",
    "with tf.Session() as sess:\n",
    "    model_dir = \"deep_networks\"\n",
    "    models = [conv_net(False, 2, 200, model_dir + \"/conv0\"), conv_net(True, 2, 200, model_dir + \"/conv1\"), \n",
    "              conv_net(True, 4, 64, model_dir + \"/conv2\"), multilayer(4, 128, model_dir + \"/mlp0\"),\n",
    "              multilayer(2, 256, model_dir + \"/mlp1\")]\n",
    "    individual_noise_targeted = []\n",
    "    for model in models:\n",
    "        attack_obj = GradientDescentDL(sess, [model], alpha, (28, 1, 10), (-.5, .5), \n",
    "                                       targeted=True, batch_size=1, max_iterations=opt_iters,\n",
    "                                       learning_rate=lr, confidence=0)\n",
    "        noise_func = partial(gradientDescentFunc, attack=attack_obj)\n",
    "        noise = adversary(np.array([1.0]), [model], X_exp, Y_exp, alpha, noise_func, Target_exp)\n",
    "        individual_noise_targeted.append(noise)"
   ]
  },
  {
   "cell_type": "code",
   "execution_count": 55,
   "metadata": {
    "collapsed": false
   },
   "outputs": [],
   "source": [
    "np.save(\"mnist_dl_individual_baselines_targeted.npy\", np.array(individual_noise_targeted))"
   ]
  },
  {
   "cell_type": "code",
   "execution_count": 15,
   "metadata": {
    "collapsed": true
   },
   "outputs": [],
   "source": [
    "individual_noise_t = np.load(\"mnist_dl_individual_baselines_targeted.npy\")"
   ]
  },
  {
   "cell_type": "code",
   "execution_count": 16,
   "metadata": {
    "collapsed": false
   },
   "outputs": [
    {
     "name": "stdout",
     "output_type": "stream",
     "text": [
      "100/100 [==============================] - 0s 857us/step\n",
      "100/100 [==============================] - 0s 1ms/step\n",
      "100/100 [==============================] - 0s 1ms/step\n",
      "100/100 [==============================] - 0s 64us/step\n",
      "100/100 [==============================] - 0s 74us/step\n",
      "100/100 [==============================] - 0s 848us/step\n",
      "100/100 [==============================] - 0s 1ms/step\n",
      "100/100 [==============================] - 0s 1ms/step\n",
      "100/100 [==============================] - 0s 71us/step\n",
      "100/100 [==============================] - 0s 82us/step\n",
      "100/100 [==============================] - 0s 916us/step\n",
      "100/100 [==============================] - 0s 1ms/step\n",
      "100/100 [==============================] - 0s 1ms/step\n",
      "100/100 [==============================] - 0s 77us/step\n",
      "100/100 [==============================] - 0s 72us/step\n",
      "100/100 [==============================] - 0s 900us/step\n",
      "100/100 [==============================] - 0s 1ms/step\n",
      "100/100 [==============================] - 0s 1ms/step\n",
      "100/100 [==============================] - 0s 85us/step\n",
      "100/100 [==============================] - 0s 104us/step\n",
      "100/100 [==============================] - 0s 782us/step\n",
      "100/100 [==============================] - 0s 1ms/step\n",
      "100/100 [==============================] - 0s 1ms/step\n",
      "100/100 [==============================] - 0s 96us/step\n",
      "100/100 [==============================] - 0s 76us/step\n"
     ]
    }
   ],
   "source": [
    "individual_noise_t_full = ([([model.evaluate(X_exp + noise, Target_exp)[1] for model in models]) \n",
    "                             for noise in individual_noise_t])"
   ]
  },
  {
   "cell_type": "code",
   "execution_count": 17,
   "metadata": {
    "collapsed": false
   },
   "outputs": [
    {
     "data": {
      "text/plain": [
       "[[0.4, 0.0, 0.0, 0.0, 0.0],\n",
       " [0.01, 0.55, 0.0, 0.0, 0.0],\n",
       " [0.01, 0.01, 0.34, 0.0, 0.0],\n",
       " [0.0, 0.0, 0.0, 0.51, 0.01],\n",
       " [0.0, 0.0, 0.0, 0.07, 0.66]]"
      ]
     },
     "execution_count": 17,
     "metadata": {},
     "output_type": "execute_result"
    }
   ],
   "source": [
    "individual_noise_t_full"
   ]
  },
  {
   "cell_type": "code",
   "execution_count": 127,
   "metadata": {
    "collapsed": false
   },
   "outputs": [],
   "source": [
    "best_individual_t = max([min(res) for res in individual_noise_t_full])"
   ]
  },
  {
   "cell_type": "code",
   "execution_count": 128,
   "metadata": {
    "collapsed": false
   },
   "outputs": [
    {
     "data": {
      "text/plain": [
       "0.0"
      ]
     },
     "execution_count": 128,
     "metadata": {},
     "output_type": "execute_result"
    }
   ],
   "source": [
    "best_individual_t"
   ]
  },
  {
   "cell_type": "markdown",
   "metadata": {},
   "source": [
    "Max_Model baseline is 0 for MNIST"
   ]
  },
  {
   "cell_type": "code",
   "execution_count": 109,
   "metadata": {
    "collapsed": true
   },
   "outputs": [],
   "source": [
    "min_acc_t = np.load(\"deepLearning-mnist-targeted-3.0-2-4-2033/acc_history.npy\")"
   ]
  },
  {
   "cell_type": "code",
   "execution_count": 20,
   "metadata": {
    "collapsed": true
   },
   "outputs": [],
   "source": [
    "noise_mwu_t = np.load(\"deepLearning-mnist-targeted-3.0-2-4-2033/noise.npy\")"
   ]
  },
  {
   "cell_type": "code",
   "execution_count": 23,
   "metadata": {
    "collapsed": false
   },
   "outputs": [
    {
     "name": "stdout",
     "output_type": "stream",
     "text": [
      "100/100 [==============================] - 0s 1ms/step\n",
      "100/100 [==============================] - 0s 2ms/step\n",
      "100/100 [==============================] - 0s 2ms/step\n",
      "100/100 [==============================] - 0s 119us/step\n",
      "100/100 [==============================] - 0s 95us/step\n",
      "100/100 [==============================] - 0s 942us/step\n",
      "100/100 [==============================] - 0s 1ms/step\n",
      "100/100 [==============================] - 0s 1ms/step\n",
      "100/100 [==============================] - 0s 62us/step\n",
      "100/100 [==============================] - 0s 76us/step\n",
      "100/100 [==============================] - 0s 680us/step\n",
      "100/100 [==============================] - 0s 998us/step\n",
      "100/100 [==============================] - 0s 1ms/step\n",
      "100/100 [==============================] - 0s 89us/step\n",
      "100/100 [==============================] - 0s 97us/step\n",
      "100/100 [==============================] - 0s 926us/step\n",
      "100/100 [==============================] - 0s 1ms/step\n",
      "100/100 [==============================] - 0s 1ms/step\n",
      "100/100 [==============================] - 0s 169us/step\n",
      "100/100 [==============================] - 0s 74us/step\n",
      "100/100 [==============================] - 0s 969us/step\n",
      "100/100 [==============================] - 0s 1ms/step\n",
      "100/100 [==============================] - 0s 1ms/step\n",
      "100/100 [==============================] - 0s 82us/step\n",
      "100/100 [==============================] - 0s 89us/step\n",
      "100/100 [==============================] - 0s 709us/step\n",
      "100/100 [==============================] - 0s 1ms/step\n",
      "100/100 [==============================] - 0s 1ms/step\n",
      "100/100 [==============================] - 0s 64us/step\n",
      "100/100 [==============================] - 0s 74us/step\n",
      "100/100 [==============================] - 0s 774us/step\n",
      "100/100 [==============================] - 0s 1ms/step\n",
      "100/100 [==============================] - 0s 1ms/step\n",
      "100/100 [==============================] - 0s 90us/step\n",
      "100/100 [==============================] - 0s 102us/step\n",
      "100/100 [==============================] - 0s 750us/step\n",
      "100/100 [==============================] - 0s 1ms/step\n",
      "100/100 [==============================] - 0s 1ms/step\n",
      "100/100 [==============================] - 0s 72us/step\n",
      "100/100 [==============================] - 0s 69us/step\n",
      "100/100 [==============================] - 0s 769us/step\n",
      "100/100 [==============================] - 0s 1ms/step\n",
      "100/100 [==============================] - 0s 1ms/step\n",
      "100/100 [==============================] - 0s 93us/step\n",
      "100/100 [==============================] - 0s 86us/step\n",
      "100/100 [==============================] - 0s 747us/step\n",
      "100/100 [==============================] - 0s 1ms/step\n",
      "100/100 [==============================] - 0s 1ms/step\n",
      "100/100 [==============================] - 0s 157us/step\n",
      "100/100 [==============================] - 0s 75us/step\n",
      "100/100 [==============================] - 0s 734us/step\n",
      "100/100 [==============================] - 0s 1ms/step\n",
      "100/100 [==============================] - 0s 1ms/step\n",
      "100/100 [==============================] - 0s 68us/step\n",
      "100/100 [==============================] - 0s 121us/step\n",
      "100/100 [==============================] - 0s 864us/step\n",
      "100/100 [==============================] - 0s 1ms/step\n",
      "100/100 [==============================] - 0s 1ms/step\n",
      "100/100 [==============================] - 0s 98us/step\n",
      "100/100 [==============================] - 0s 82us/step\n",
      "100/100 [==============================] - 0s 850us/step\n",
      "100/100 [==============================] - 0s 1ms/step\n",
      "100/100 [==============================] - 0s 1ms/step\n",
      "100/100 [==============================] - 0s 99us/step\n",
      "100/100 [==============================] - 0s 100us/step\n",
      "100/100 [==============================] - 0s 722us/step\n",
      "100/100 [==============================] - 0s 1ms/step\n",
      "100/100 [==============================] - 0s 1ms/step\n",
      "100/100 [==============================] - 0s 66us/step\n",
      "100/100 [==============================] - 0s 69us/step\n",
      "100/100 [==============================] - 0s 751us/step\n",
      "100/100 [==============================] - 0s 1ms/step\n",
      "100/100 [==============================] - 0s 1ms/step\n",
      "100/100 [==============================] - 0s 92us/step\n",
      "100/100 [==============================] - 0s 134us/step\n",
      "100/100 [==============================] - 0s 884us/step\n",
      "100/100 [==============================] - 0s 1ms/step\n",
      "100/100 [==============================] - 0s 1ms/step\n",
      "100/100 [==============================] - 0s 101us/step\n",
      "100/100 [==============================] - 0s 89us/step\n",
      "100/100 [==============================] - 0s 808us/step\n",
      "100/100 [==============================] - 0s 1ms/step\n",
      "100/100 [==============================] - 0s 1ms/step\n",
      "100/100 [==============================] - 0s 98us/step\n",
      "100/100 [==============================] - 0s 98us/step\n",
      "100/100 [==============================] - 0s 1ms/step\n",
      "100/100 [==============================] - 0s 1ms/step\n",
      "100/100 [==============================] - 0s 1ms/step\n",
      "100/100 [==============================] - 0s 66us/step\n",
      "100/100 [==============================] - 0s 153us/step\n",
      "100/100 [==============================] - 0s 730us/step\n",
      "100/100 [==============================] - 0s 2ms/step\n",
      "100/100 [==============================] - 0s 1ms/step\n",
      "100/100 [==============================] - 0s 88us/step\n",
      "100/100 [==============================] - 0s 104us/step\n",
      "100/100 [==============================] - 0s 1ms/step\n",
      "100/100 [==============================] - 0s 1ms/step\n",
      "100/100 [==============================] - 0s 1ms/step\n",
      "100/100 [==============================] - 0s 65us/step\n",
      "100/100 [==============================] - 0s 75us/step\n",
      "100/100 [==============================] - 0s 772us/step\n",
      "100/100 [==============================] - 0s 1ms/step\n",
      "100/100 [==============================] - 0s 1ms/step\n",
      "100/100 [==============================] - 0s 86us/step\n",
      "100/100 [==============================] - 0s 89us/step\n",
      "100/100 [==============================] - 0s 1ms/step\n",
      "100/100 [==============================] - 0s 1ms/step\n",
      "100/100 [==============================] - 0s 1ms/step\n",
      "100/100 [==============================] - 0s 133us/step\n",
      "100/100 [==============================] - 0s 94us/step\n",
      "100/100 [==============================] - 0s 1ms/step\n",
      "100/100 [==============================] - 0s 1ms/step\n",
      "100/100 [==============================] - 0s 1ms/step\n",
      "100/100 [==============================] - 0s 73us/step\n",
      "100/100 [==============================] - 0s 83us/step\n",
      "100/100 [==============================] - 0s 1ms/step\n",
      "100/100 [==============================] - 0s 976us/step\n",
      "100/100 [==============================] - 0s 1ms/step\n",
      "100/100 [==============================] - 0s 77us/step\n",
      "100/100 [==============================] - 0s 72us/step\n",
      "100/100 [==============================] - 0s 713us/step\n",
      "100/100 [==============================] - 0s 1ms/step\n",
      "100/100 [==============================] - 0s 1ms/step\n",
      "100/100 [==============================] - 0s 85us/step\n",
      "100/100 [==============================] - 0s 153us/step\n",
      "100/100 [==============================] - 0s 759us/step\n",
      "100/100 [==============================] - 0s 1ms/step\n",
      "100/100 [==============================] - 0s 1ms/step\n",
      "100/100 [==============================] - 0s 74us/step\n",
      "100/100 [==============================] - 0s 96us/step\n",
      "100/100 [==============================] - 0s 810us/step\n",
      "100/100 [==============================] - 0s 1ms/step\n",
      "100/100 [==============================] - 0s 1ms/step\n",
      "100/100 [==============================] - 0s 73us/step\n",
      "100/100 [==============================] - 0s 82us/step\n",
      "100/100 [==============================] - 0s 742us/step\n",
      "100/100 [==============================] - 0s 1ms/step\n",
      "100/100 [==============================] - 0s 1ms/step\n",
      "100/100 [==============================] - 0s 70us/step\n",
      "100/100 [==============================] - 0s 77us/step\n",
      "100/100 [==============================] - 0s 824us/step\n",
      "100/100 [==============================] - 0s 1ms/step\n",
      "100/100 [==============================] - 0s 1ms/step\n",
      "100/100 [==============================] - 0s 64us/step\n",
      "100/100 [==============================] - 0s 75us/step\n",
      "100/100 [==============================] - 0s 744us/step\n",
      "100/100 [==============================] - 0s 1ms/step\n",
      "100/100 [==============================] - 0s 1ms/step\n",
      "100/100 [==============================] - 0s 63us/step\n",
      "100/100 [==============================] - 0s 70us/step\n",
      "100/100 [==============================] - 0s 816us/step\n",
      "100/100 [==============================] - 0s 1ms/step\n",
      "100/100 [==============================] - 0s 1ms/step\n",
      "100/100 [==============================] - 0s 66us/step\n",
      "100/100 [==============================] - 0s 73us/step\n",
      "100/100 [==============================] - 0s 745us/step\n",
      "100/100 [==============================] - 0s 1ms/step\n",
      "100/100 [==============================] - 0s 1ms/step\n",
      "100/100 [==============================] - 0s 65us/step\n",
      "100/100 [==============================] - 0s 70us/step\n",
      "100/100 [==============================] - 0s 922us/step\n",
      "100/100 [==============================] - 0s 1ms/step\n",
      "100/100 [==============================] - 0s 1ms/step\n",
      "100/100 [==============================] - 0s 59us/step\n",
      "100/100 [==============================] - 0s 69us/step\n",
      "100/100 [==============================] - 0s 1ms/step\n",
      "100/100 [==============================] - 0s 1ms/step\n",
      "100/100 [==============================] - 0s 1ms/step\n",
      "100/100 [==============================] - 0s 69us/step\n",
      "100/100 [==============================] - 0s 74us/step\n",
      "100/100 [==============================] - 0s 811us/step\n",
      "100/100 [==============================] - 0s 1ms/step\n",
      "100/100 [==============================] - 0s 993us/step\n",
      "100/100 [==============================] - 0s 63us/step\n",
      "100/100 [==============================] - 0s 72us/step\n",
      "100/100 [==============================] - 0s 751us/step\n",
      "100/100 [==============================] - 0s 1ms/step\n",
      "100/100 [==============================] - 0s 1ms/step\n",
      "100/100 [==============================] - 0s 73us/step\n",
      "100/100 [==============================] - 0s 93us/step\n",
      "100/100 [==============================] - 0s 812us/step\n",
      "100/100 [==============================] - 0s 1ms/step\n",
      "100/100 [==============================] - 0s 1ms/step\n",
      "100/100 [==============================] - 0s 65us/step\n",
      "100/100 [==============================] - 0s 183us/step\n",
      "100/100 [==============================] - 0s 755us/step\n",
      "100/100 [==============================] - 0s 1ms/step\n",
      "100/100 [==============================] - 0s 1ms/step\n",
      "100/100 [==============================] - 0s 82us/step\n",
      "100/100 [==============================] - 0s 165us/step\n",
      "100/100 [==============================] - 0s 701us/step\n",
      "100/100 [==============================] - 0s 1ms/step\n",
      "100/100 [==============================] - 0s 1ms/step\n",
      "100/100 [==============================] - 0s 198us/step\n",
      "100/100 [==============================] - 0s 73us/step\n",
      "100/100 [==============================] - 0s 716us/step\n",
      "100/100 [==============================] - 0s 1ms/step\n",
      "100/100 [==============================] - 0s 1ms/step\n",
      "100/100 [==============================] - 0s 125us/step\n",
      "100/100 [==============================] - 0s 71us/step\n",
      "100/100 [==============================] - 0s 759us/step\n",
      "100/100 [==============================] - 0s 1ms/step\n",
      "100/100 [==============================] - 0s 1ms/step\n",
      "100/100 [==============================] - 0s 66us/step\n",
      "100/100 [==============================] - 0s 66us/step\n",
      "100/100 [==============================] - 0s 720us/step\n",
      "100/100 [==============================] - 0s 1ms/step\n",
      "100/100 [==============================] - 0s 1ms/step\n",
      "100/100 [==============================] - 0s 65us/step\n",
      "100/100 [==============================] - 0s 143us/step\n",
      "100/100 [==============================] - 0s 707us/step\n",
      "100/100 [==============================] - 0s 1ms/step\n",
      "100/100 [==============================] - 0s 1ms/step\n",
      "100/100 [==============================] - 0s 69us/step\n",
      "100/100 [==============================] - 0s 74us/step\n",
      "100/100 [==============================] - 0s 766us/step\n",
      "100/100 [==============================] - 0s 1ms/step\n",
      "100/100 [==============================] - 0s 1ms/step\n",
      "100/100 [==============================] - 0s 69us/step\n",
      "100/100 [==============================] - 0s 80us/step\n",
      "100/100 [==============================] - 0s 818us/step\n",
      "100/100 [==============================] - 0s 1ms/step\n",
      "100/100 [==============================] - 0s 1ms/step\n",
      "100/100 [==============================] - 0s 64us/step\n",
      "100/100 [==============================] - 0s 75us/step\n",
      "100/100 [==============================] - 0s 885us/step\n",
      "100/100 [==============================] - 0s 1ms/step\n",
      "100/100 [==============================] - 0s 1ms/step\n",
      "100/100 [==============================] - 0s 64us/step\n",
      "100/100 [==============================] - 0s 75us/step\n",
      "100/100 [==============================] - 0s 754us/step\n",
      "100/100 [==============================] - 0s 1ms/step\n",
      "100/100 [==============================] - 0s 1ms/step\n",
      "100/100 [==============================] - 0s 64us/step\n",
      "100/100 [==============================] - 0s 69us/step\n",
      "100/100 [==============================] - 0s 912us/step\n",
      "100/100 [==============================] - 0s 1ms/step\n",
      "100/100 [==============================] - 0s 1ms/step\n",
      "100/100 [==============================] - 0s 79us/step\n",
      "100/100 [==============================] - 0s 120us/step\n",
      "100/100 [==============================] - 0s 750us/step\n",
      "100/100 [==============================] - 0s 1ms/step\n",
      "100/100 [==============================] - 0s 975us/step\n",
      "100/100 [==============================] - 0s 135us/step\n",
      "100/100 [==============================] - 0s 73us/step\n",
      "100/100 [==============================] - 0s 746us/step\n",
      "100/100 [==============================] - 0s 1ms/step\n",
      "100/100 [==============================] - 0s 1ms/step\n",
      "100/100 [==============================] - 0s 72us/step\n",
      "100/100 [==============================] - 0s 78us/step\n"
     ]
    }
   ],
   "source": [
    "mwu_t_results = [[model.evaluate(X_exp + noise, Target_exp)[1] for model in models] for noise in noise_mwu_t]"
   ]
  },
  {
   "cell_type": "code",
   "execution_count": 24,
   "metadata": {
    "collapsed": true
   },
   "outputs": [],
   "source": [
    "mwu_t_results = np.array(mwu_t_results)"
   ]
  },
  {
   "cell_type": "code",
   "execution_count": 26,
   "metadata": {
    "collapsed": false
   },
   "outputs": [
    {
     "data": {
      "text/plain": [
       "array([0.2954, 0.3166, 0.2834, 0.4706, 0.4652])"
      ]
     },
     "execution_count": 26,
     "metadata": {},
     "output_type": "execute_result"
    }
   ],
   "source": [
    "np.mean(mwu_t_results, axis=0)"
   ]
  },
  {
   "cell_type": "code",
   "execution_count": 129,
   "metadata": {
    "collapsed": false
   },
   "outputs": [
    {
     "data": {
      "text/plain": [
       "<matplotlib.text.Text at 0x158013e10>"
      ]
     },
     "execution_count": 129,
     "metadata": {},
     "output_type": "execute_result"
    },
    {
     "data": {
      "image/png": "[encoded data removed]",
      "text/plain": [
       "<matplotlib.figure.Figure at 0x157e31190>"
      ]
     },
     "metadata": {},
     "output_type": "display_data"
    }
   ],
   "source": [
    "num_iters = 50\n",
    "plt.plot(range(num_iters), min_acc_t, color=\"orange\")\n",
    "plt.plot(range(num_iters), [ensemble_res_t] * num_iters, linestyle=\"--\", color=\"purple\")\n",
    "# plt.plot(range(num_iters), [best_individual_t] * num_iters, linestyle=\"--\", color=\"black\")\n",
    "plt.legend([\"untargeted loss\", \"ensemble baseline\", \"individual baseline\"], loc=\"right\", \n",
    "           bbox_to_anchor=(.95,.4), fontsize=12)\n",
    "plt.title(\"Universal Noise Deep Learning: MNIST\")\n",
    "plt.ylabel(\"Max Accuracy\")\n",
    "plt.xlabel(\"MWU Round\")"
   ]
  },
  {
   "cell_type": "code",
   "execution_count": null,
   "metadata": {
    "collapsed": true
   },
   "outputs": [],
   "source": []
  },
  {
   "cell_type": "code",
   "execution_count": null,
   "metadata": {
    "collapsed": true
   },
   "outputs": [],
   "source": []
  },
  {
   "cell_type": "code",
   "execution_count": null,
   "metadata": {
    "collapsed": true
   },
   "outputs": [],
   "source": []
  },
  {
   "cell_type": "code",
   "execution_count": null,
   "metadata": {
    "collapsed": true
   },
   "outputs": [],
   "source": []
  },
  {
   "cell_type": "code",
   "execution_count": null,
   "metadata": {
    "collapsed": true
   },
   "outputs": [],
   "source": []
  },
  {
   "cell_type": "code",
   "execution_count": null,
   "metadata": {
    "collapsed": true
   },
   "outputs": [],
   "source": []
  },
  {
   "cell_type": "code",
   "execution_count": null,
   "metadata": {
    "collapsed": true
   },
   "outputs": [],
   "source": []
  },
  {
   "cell_type": "markdown",
   "metadata": {},
   "source": [
    "# NEed to move these cells up"
   ]
  },
  {
   "cell_type": "code",
   "execution_count": 89,
   "metadata": {
    "collapsed": true
   },
   "outputs": [],
   "source": [
    "max_acc_ut = np.load(\"deepLearning-mnist-untargeted-2.8-2-4-1951/acc_history.npy\")"
   ]
  },
  {
   "cell_type": "code",
   "execution_count": 97,
   "metadata": {
    "collapsed": false
   },
   "outputs": [
    {
     "data": {
      "text/plain": [
       "<matplotlib.text.Text at 0x157ee95d0>"
      ]
     },
     "execution_count": 97,
     "metadata": {},
     "output_type": "execute_result"
    },
    {
     "data": {
      "image/png": "[encoded data removed]",
      "text/plain": [
       "<matplotlib.figure.Figure at 0x157ec5c90>"
      ]
     },
     "metadata": {},
     "output_type": "display_data"
    }
   ],
   "source": [
    "num_iters = 50\n",
    "ensemble_res = .99\n",
    "plt.plot(range(num_iters), max_acc_ut, color=\"orange\")\n",
    "plt.plot(range(num_iters), [ensemble_res_ut] * num_iters, linestyle=\"--\", color=\"purple\")\n",
    "plt.plot(range(num_iters), [best_individual_ut] * num_iters, linestyle=\"--\", color=\"black\")\n",
    "plt.legend([\"untargeted loss\", \"ensemble baseline\", \"individual baseline\"], loc=\"right\", \n",
    "           bbox_to_anchor=(.95,.4), fontsize=12)\n",
    "plt.title(\"Universal Noise Deep Learning: MNIST\")\n",
    "plt.ylabel(\"Max Accuracy\")\n",
    "plt.xlabel(\"MWU Round\")"
   ]
  },
  {
   "cell_type": "code",
   "execution_count": 99,
   "metadata": {
    "collapsed": true
   },
   "outputs": [],
   "source": [
    "mwu_noise = np.load(\"deepLearning-mnist-untargeted-2.8-2-4-1951/noise.npy\")"
   ]
  },
  {
   "cell_type": "code",
   "execution_count": null,
   "metadata": {
    "collapsed": false
   },
   "outputs": [],
   "source": [
    "mwu_accuracies = [[model.evaluate(X_exp + noise, Y_exp)[1] for model in models] for noise in mwu_noise]"
   ]
  },
  {
   "cell_type": "code",
   "execution_count": 101,
   "metadata": {
    "collapsed": true
   },
   "outputs": [],
   "source": [
    "mwu_accuracies = np.array(mwu_accuracies)"
   ]
  },
  {
   "cell_type": "code",
   "execution_count": 107,
   "metadata": {
    "collapsed": false
   },
   "outputs": [
    {
     "data": {
      "text/plain": [
       "array([0.4678, 0.3794, 0.4474, 0.1054, 0.1324])"
      ]
     },
     "execution_count": 107,
     "metadata": {},
     "output_type": "execute_result"
    }
   ],
   "source": [
    "np.mean(mwu_accuracies, axis=0)"
   ]
  },
  {
   "cell_type": "code",
   "execution_count": null,
   "metadata": {
    "collapsed": true
   },
   "outputs": [],
   "source": []
  }
 ],
 "metadata": {
  "anaconda-cloud": {},
  "kernelspec": {
   "display_name": "Python [default]",
   "language": "python",
   "name": "python2"
  },
  "language_info": {
   "codemirror_mode": {
    "name": "ipython",
    "version": 2
   },
   "file_extension": ".py",
   "mimetype": "text/x-python",
   "name": "python",
   "nbconvert_exporter": "python",
   "pygments_lexer": "ipython2",
   "version": "2.7.12"
  }
 },
 "nbformat": 4,
 "nbformat_minor": 1
}
