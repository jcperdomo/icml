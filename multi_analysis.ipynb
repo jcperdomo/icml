{
 "cells": [
  {
   "cell_type": "code",
   "execution_count": 22,
   "metadata": {
    "collapsed": true
   },
   "outputs": [],
   "source": [
    "import numpy as np\n",
    "import matplotlib.pyplot as plt\n",
    "from linear_models import LinearBinaryClassifier, LinearOneVsAllClassifier\n",
    "from noise_functions_multiclass import tryRegionOneVsAll\n",
    "import time\n",
    "%matplotlib inline"
   ]
  },
  {
   "cell_type": "code",
   "execution_count": 2,
   "metadata": {
    "collapsed": true
   },
   "outputs": [],
   "source": [
    "folders = ['randomAscent', 'greedyAscent', 'gradientDescent']"
   ]
  },
  {
   "cell_type": "code",
   "execution_count": 4,
   "metadata": {
    "collapsed": false
   },
   "outputs": [],
   "source": [
    "loss_histories = []\n",
    "max_acc_histories = []\n",
    "\n",
    "for folder in folders:\n",
    "    lh = np.load('multiclass_experiments/multiclass-'+folder+\"-1-17/loss_history.npy\")\n",
    "    loss_histories.append(lh)\n",
    "    ma = np.load('multiclass_experiments/multiclass-'+folder+\"-1-17/max_acc_history.npy\")\n",
    "    max_acc_histories.append(ma)\n",
    "\n",
    "lh = np.load('multiclass_experiments/multiclass-gradientNonConvex-1-19/loss_history.npy')\n",
    "loss_histories.append(lh)\n",
    "ma = np.load('multiclass_experiments/multiclass-gradientNonConvex-1-19/max_acc_history.npy')\n",
    "max_acc_histories.append(ma)"
   ]
  },
  {
   "cell_type": "code",
   "execution_count": 5,
   "metadata": {
    "collapsed": true
   },
   "outputs": [],
   "source": [
    "data_path = \"multiclass_data_2\"\n",
    "models = []\n",
    "exp_type = \"multiclass\"\n",
    "num_classifiers = 5\n",
    "alpha = .5\n",
    "\n",
    "X_exp = np.load(data_path + \"/\" + \"X_exp.npy\")\n",
    "Y_exp = np.load(data_path + \"/\" + \"Y_exp.npy\")\n",
    "\n",
    "for i in xrange(num_classifiers):\n",
    "    weights = np.load(data_path + \"/\" + \"weights_{}.npy\".format(i))\n",
    "    bias = np.load(data_path + \"/\" + \"bias_{}.npy\".format(i))\n",
    "    model = LinearOneVsAllClassifier(10, weights, bias)\n",
    "    models.append(model)"
   ]
  },
  {
   "cell_type": "code",
   "execution_count": 24,
   "metadata": {
    "collapsed": false
   },
   "outputs": [],
   "source": [
    "ensemble_weights = sum([1.0 / num_classifiers * model.weights for model in models ])\n",
    "ensemble_bias = sum([1.0 / num_classifiers * model.bias for model in models ])"
   ]
  },
  {
   "cell_type": "code",
   "execution_count": 25,
   "metadata": {
    "collapsed": true
   },
   "outputs": [],
   "source": [
    "ensemble_model = LinearOneVsAllClassifier(10, ensemble_weights, ensemble_bias)"
   ]
  },
  {
   "cell_type": "code",
   "execution_count": 26,
   "metadata": {
    "collapsed": false
   },
   "outputs": [
    {
     "data": {
      "text/plain": [
       "1.0"
      ]
     },
     "execution_count": 26,
     "metadata": {},
     "output_type": "execute_result"
    }
   ],
   "source": [
    "ensemble_model.evaluate(X_exp, Y_exp)"
   ]
  },
  {
   "cell_type": "code",
   "execution_count": 78,
   "metadata": {
    "collapsed": true
   },
   "outputs": [],
   "source": [
    "def optUntargetedNoiseMulti(model, X, Y, alpha):\n",
    "    n = X.shape[0]\n",
    "    noise = []\n",
    "    # iterate over all points\n",
    "    for i in xrange(n):\n",
    "        label_options = range(10)\n",
    "        del label_options[Y[i]]\n",
    "        v_options = []\n",
    "        # iterate over all label options\n",
    "        for j in label_options:\n",
    "            v = tryRegionOneVsAll([model], [j], X[i])\n",
    "            norm = np.linalg.norm(v)\n",
    "            v_options.append((norm, v))\n",
    "        min_v = min(v_options, key=lambda x:x[0])\n",
    "        if min_v[0] < alpha:\n",
    "            res = min_v[1]\n",
    "        else:\n",
    "            res = np.zeros(28*28)\n",
    "        noise.append(res)\n",
    "    return np.array(noise)"
   ]
  },
  {
   "cell_type": "code",
   "execution_count": 79,
   "metadata": {
    "collapsed": true
   },
   "outputs": [],
   "source": [
    "def normalize(noise, alpha):\n",
    "    for i in range(noise.shape[0]):\n",
    "        norm = np.linalg.norm(noise[i])\n",
    "        if norm > 0:\n",
    "            noise[i] = noise[i] / norm * alpha\n",
    "    return noise"
   ]
  },
  {
   "cell_type": "code",
   "execution_count": 80,
   "metadata": {
    "collapsed": false
   },
   "outputs": [],
   "source": [
    "ensemble_noise = optUntargetedNoiseMulti(ensemble_model, X_exp, Y_exp, alpha)\n",
    "ensemble_noise = normalize(ensemble_noise, alpha)"
   ]
  },
  {
   "cell_type": "code",
   "execution_count": 82,
   "metadata": {
    "collapsed": true
   },
   "outputs": [],
   "source": [
    "individual_noise = [optUntargetedNoiseMulti(model, X_exp, Y_exp, alpha) for model in models]\n",
    "individual_noise = [normalize(noise, alpha) for noise in individual_noise]"
   ]
  },
  {
   "cell_type": "code",
   "execution_count": 85,
   "metadata": {
    "collapsed": true
   },
   "outputs": [],
   "source": [
    "ensemble_res = max([model.evaluate(X_exp + ensemble_noise, Y_exp) for model in models])"
   ]
  },
  {
   "cell_type": "code",
   "execution_count": 90,
   "metadata": {
    "collapsed": false
   },
   "outputs": [],
   "source": [
    "max_model = min([max([model.evaluate(X_exp + noise, Y_exp) for model in models]) for noise in individual_noise])"
   ]
  },
  {
   "cell_type": "code",
   "execution_count": 103,
   "metadata": {
    "collapsed": false
   },
   "outputs": [
    {
     "data": {
      "text/plain": [
       "(0.3, 0.95)"
      ]
     },
     "execution_count": 103,
     "metadata": {},
     "output_type": "execute_result"
    },
    {
     "data": {
      "image/png": "[encoded data removed]",
      "text/plain": [
       "<matplotlib.figure.Figure at 0x112a7ae10>"
      ]
     },
     "metadata": {},
     "output_type": "display_data"
    }
   ],
   "source": [
    "display_folders = ['random ascent', 'greedy ascent', 'reverse hinge loss', 'untargeted loss']\n",
    "colors = [\"green\", \"red\", \"cyan\", \"orange\"]\n",
    "for i, ma in enumerate(max_acc_histories):\n",
    "    plt.plot(range(100), ma, color=colors[i])\n",
    "plt.plot(range(100), [ensemble_res] * 100, linestyle=\"--\", color=\"purple\")\n",
    "plt.plot(range(100), [max_model] * 100, linestyle=\"--\", color=\"black\")\n",
    "plt.legend(display_folders + [\"ensemble baseline\", \"individual baseline\"], loc=\"right\", bbox_to_anchor=(1,.55), fontsize=12)\n",
    "plt.title(\"Untargeted Noise Linear Multiclass Classifiers\")\n",
    "plt.ylabel(\"Max Accuracy\")\n",
    "plt.xlabel(\"MWU Round\")\n",
    "plt.ylim(.3,.95)"
   ]
  },
  {
   "cell_type": "code",
   "execution_count": 15,
   "metadata": {
    "collapsed": false
   },
   "outputs": [
    {
     "data": {
      "text/plain": [
       "0.3135"
      ]
     },
     "execution_count": 15,
     "metadata": {},
     "output_type": "execute_result"
    }
   ],
   "source": [
    "max_acc_histories[-2][-1]"
   ]
  },
  {
   "cell_type": "code",
   "execution_count": 55,
   "metadata": {
    "collapsed": true
   },
   "outputs": [],
   "source": [
    "def findAlphaEquivalent(ensemble_model, X_exp, Y_exp, alpha, target):\n",
    "    noise =  optNoiseMulti(ensemble_model, X_exp, Y_exp, alpha)\n",
    "    for i in range(len(noise)):\n",
    "        norm = np.linalg.norm(noise[i])\n",
    "        if norm > 0:\n",
    "            noise[i] = noise[i] / norm  * alpha\n",
    "\n",
    "    res = max([model.evaluate(X_exp + noise, Y_exp) for model in models])\n",
    "    print alpha, res\n",
    "    if res > target:\n",
    "        return findAlphaEquivalent(ensemble_model, X_exp, Y_exp, alpha + .02, target)\n",
    "    else:\n",
    "        return alpha"
   ]
  },
  {
   "cell_type": "code",
   "execution_count": 56,
   "metadata": {
    "collapsed": false
   },
   "outputs": [
    {
     "name": "stdout",
     "output_type": "stream",
     "text": [
      "0.5 0.47\n",
      "0.52 0.43\n",
      "0.54 0.41\n",
      "0.56 0.37\n",
      "0.58 0.34\n",
      "0.6 0.33\n",
      "0.62 0.31\n"
     ]
    },
    {
     "data": {
      "text/plain": [
       "0.6200000000000001"
      ]
     },
     "execution_count": 56,
     "metadata": {},
     "output_type": "execute_result"
    }
   ],
   "source": [
    "findAlphaEquivalent(ensemble_model, X_exp, Y_exp, .5, .3135)"
   ]
  }
 ],
 "metadata": {
  "anaconda-cloud": {},
  "kernelspec": {
   "display_name": "Python [default]",
   "language": "python",
   "name": "python2"
  },
  "language_info": {
   "codemirror_mode": {
    "name": "ipython",
    "version": 2
   },
   "file_extension": ".py",
   "mimetype": "text/x-python",
   "name": "python",
   "nbconvert_exporter": "python",
   "pygments_lexer": "ipython2",
   "version": "2.7.12"
  }
 },
 "nbformat": 4,
 "nbformat_minor": 1
}
