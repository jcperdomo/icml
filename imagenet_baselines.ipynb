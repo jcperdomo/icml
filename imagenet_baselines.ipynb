{
 "cells": [
  {
   "cell_type": "code",
   "execution_count": 2,
   "metadata": {
    "collapsed": false
   },
   "outputs": [
    {
     "name": "stderr",
     "output_type": "stream",
     "text": [
      "Using TensorFlow backend.\n"
     ]
    }
   ],
   "source": [
    "from keras.applications.resnet50 import ResNet50\n",
    "from keras.applications.inception_resnet_v2 import InceptionResNetV2\n",
    "from keras.applications.vgg19 import VGG19\n",
    "from keras.applications.inception_v3 import InceptionV3\n",
    "from keras.layers.core import Lambda\n",
    "from keras.layers import Input\n",
    "from keras.applications.imagenet_utils import preprocess_input\n",
    "from keras.models import Model\n",
    "from noise_functions_dl import GradientDescentDL, gradientDescentFunc\n",
    "import os\n",
    "import numpy as np"
   ]
  },
  {
   "cell_type": "code",
   "execution_count": 3,
   "metadata": {
    "collapsed": true
   },
   "outputs": [],
   "source": [
    "input_tensor = Input(shape=(224, 224, 3))\n",
    "tf_inputs = Lambda(lambda x: preprocess_input(x, mode='tf'))(input_tensor)\n",
    "caffe_inputs = Lambda(lambda x: preprocess_input(x, mode='caffe'))(input_tensor)\n",
    "\n",
    "base_inception = InceptionV3(input_tensor=input_tensor, weights=\"imagenet\", include_top=True)\n",
    "inception = Model(inputs=input_tensor, outputs=base_inception(tf_inputs))\n",
    "\n",
    "base_resnet = ResNet50(input_tensor=input_tensor, weights=\"imagenet\", include_top=True)\n",
    "resnet = Model(inputs=input_tensor, outputs=base_resnet(caffe_inputs))\n",
    "\n",
    "base_inceptionresnet = InceptionResNetV2(input_tensor=input_tensor, weights=\"imagenet\", include_top=True)\n",
    "inceptionresnet = Model(inputs=input_tensor, outputs=base_inceptionresnet(tf_inputs))\n",
    "\n",
    "base_vgg = VGG19(input_tensor=input_tensor, weights=\"imagenet\", include_top=True)\n",
    "vgg = Model(inputs=input_tensor, outputs=base_vgg(caffe_inputs))\n",
    "\n",
    "# [vgg, inceptionresnet, resnet, inception]\n",
    "models = [vgg, inceptionresnet, resnet, inception]\n",
    "\n",
    "for model in models:\n",
    "    model.compile(optimizer='adam', loss='categorical_crossentropy', metrics=['accuracy'])"
   ]
  },
  {
   "cell_type": "code",
   "execution_count": 4,
   "metadata": {
    "collapsed": true
   },
   "outputs": [],
   "source": [
    "data_path = \"imagenet_data\"\n",
    "X_exp = np.load(data_path + \"/\" + \"X_exp.npy\")[:50]\n",
    "Y_exp = np.load(data_path + \"/\" + \"Y_exp.npy\")[:50]\n",
    "Target_exp = np.load(data_path + \"/\" + \"Target_exp.npy\")[:50]"
   ]
  },
  {
   "cell_type": "code",
   "execution_count": 34,
   "metadata": {
    "collapsed": false
   },
   "outputs": [],
   "source": [
    "baseline_folder = \"imagenet_baselines_2\"\n",
    "noise_baselines = [np.load(baseline_folder + \"/imagenet_baseline_untargeted_{}/noise.npy\".format(i)) \n",
    "                   for i in xrange(5)]"
   ]
  },
  {
   "cell_type": "code",
   "execution_count": 11,
   "metadata": {
    "collapsed": false
   },
   "outputs": [
    {
     "name": "stdout",
     "output_type": "stream",
     "text": [
      "100/100 [==============================] - 150s 1s/step\n",
      "100/100 [==============================] - 54s 543ms/step\n",
      "100/100 [==============================] - 45s 451ms/step\n",
      "100/100 [==============================] - 27s 266ms/step\n"
     ]
    },
    {
     "data": {
      "text/plain": [
       "[[0.09790555447340012, 1.0],\n",
       " [0.0023349857737775892, 1.0],\n",
       " [0.09216954857110977, 1.0],\n",
       " [0.02559835523366928, 1.0]]"
      ]
     },
     "execution_count": 11,
     "metadata": {},
     "output_type": "execute_result"
    }
   ],
   "source": [
    "[model.evaluate(X_exp, Y_exp) for model in models]"
   ]
  },
  {
   "cell_type": "code",
   "execution_count": 35,
   "metadata": {
    "collapsed": false
   },
   "outputs": [
    {
     "name": "stdout",
     "output_type": "stream",
     "text": [
      "50/50 [==============================] - 69s 1s/step\n",
      "50/50 [==============================] - 24s 470ms/step\n",
      "50/50 [==============================] - 19s 390ms/step\n",
      "50/50 [==============================] - 12s 245ms/step\n",
      "50/50 [==============================] - 60s 1s/step\n",
      "50/50 [==============================] - 24s 471ms/step\n",
      "50/50 [==============================] - 23s 455ms/step\n",
      "50/50 [==============================] - 14s 283ms/step\n",
      "50/50 [==============================] - 80s 2s/step\n",
      "50/50 [==============================] - 24s 485ms/step\n",
      "50/50 [==============================] - 25s 502ms/step\n",
      "50/50 [==============================] - 15s 297ms/step\n",
      "50/50 [==============================] - 74s 1s/step\n",
      "50/50 [==============================] - 29s 583ms/step\n",
      "50/50 [==============================] - 26s 515ms/step\n",
      "50/50 [==============================] - 16s 313ms/step\n",
      "50/50 [==============================] - 78s 2s/step\n",
      "50/50 [==============================] - 49s 983ms/step\n",
      "50/50 [==============================] - 32s 641ms/step\n",
      "50/50 [==============================] - 18s 351ms/step\n"
     ]
    }
   ],
   "source": [
    "baseline_results = [[model.evaluate(X_exp + noise, Y_exp)[1] for model in models] for noise in noise_baselines]"
   ]
  },
  {
   "cell_type": "code",
   "execution_count": 38,
   "metadata": {
    "collapsed": false
   },
   "outputs": [
    {
     "name": "stdout",
     "output_type": "stream",
     "text": [
      "[0.12000000014901162, 1.0, 1.0, 0.98]\n",
      "[1.0, 0.3000000047683716, 1.0, 1.0]\n",
      "[1.0, 1.0, 0.0, 0.98]\n",
      "[1.0, 1.0, 1.0, 0.0]\n",
      "[0.24000000029802324, 0.8799999928474427, 0.10000000029802322, 0.5799999976158142]\n"
     ]
    }
   ],
   "source": [
    "for res in baseline_results:\n",
    "    print res"
   ]
  },
  {
   "cell_type": "code",
   "execution_count": 23,
   "metadata": {
    "collapsed": false
   },
   "outputs": [
    {
     "data": {
      "text/plain": [
       "0.8799999928474427"
      ]
     },
     "execution_count": 23,
     "metadata": {},
     "output_type": "execute_result"
    }
   ],
   "source": [
    "min([max(res) for res in baseline_results])"
   ]
  },
  {
   "cell_type": "code",
   "execution_count": 25,
   "metadata": {
    "collapsed": false
   },
   "outputs": [
    {
     "name": "stdout",
     "output_type": "stream",
     "text": [
      "[1.0, 1.0, 0.0, 0.98]\n",
      "[1.0, 1.0, 1.0, 0.0]\n",
      "[0.24000000029802324, 0.8799999928474427, 0.10000000029802322, 0.5799999976158142]\n",
      "[1.0, 0.3000000047683716, 1.0, 1.0]\n",
      "[0.12000000014901162, 1.0, 1.0, 0.98]\n"
     ]
    }
   ],
   "source": [
    "for res in baseline_results:\n",
    "    print res"
   ]
  },
  {
   "cell_type": "code",
   "execution_count": 18,
   "metadata": {
    "collapsed": true
   },
   "outputs": [],
   "source": [
    "mwu_noise = np.load(\"deepLearning-imagenet-untargeted-300.0-2-4-2047/noise.npy\")[0]"
   ]
  },
  {
   "cell_type": "code",
   "execution_count": 24,
   "metadata": {
    "collapsed": false
   },
   "outputs": [
    {
     "name": "stdout",
     "output_type": "stream",
     "text": [
      "50/50 [==============================] - 78s 2s/step\n",
      "50/50 [==============================] - 24s 483ms/step\n",
      "50/50 [==============================] - 21s 418ms/step\n",
      "50/50 [==============================] - 13s 252ms/step\n"
     ]
    }
   ],
   "source": [
    "mwu_results = [model.evaluate(X_exp + mwu_noise, Y_exp)[1] for model in models]"
   ]
  },
  {
   "cell_type": "code",
   "execution_count": 26,
   "metadata": {
    "collapsed": false
   },
   "outputs": [
    {
     "data": {
      "text/plain": [
       "[0.1600000001490116, 0.6600000071525574, 0.0, 0.18000000178813935]"
      ]
     },
     "execution_count": 26,
     "metadata": {},
     "output_type": "execute_result"
    }
   ],
   "source": [
    "mwu_results"
   ]
  },
  {
   "cell_type": "code",
   "execution_count": 27,
   "metadata": {
    "collapsed": false
   },
   "outputs": [
    {
     "data": {
      "text/plain": [
       "0.6600000071525574"
      ]
     },
     "execution_count": 27,
     "metadata": {},
     "output_type": "execute_result"
    }
   ],
   "source": [
    "max(mwu_results)"
   ]
  },
  {
   "cell_type": "markdown",
   "metadata": {},
   "source": [
    "# Targeted Noise"
   ]
  },
  {
   "cell_type": "code",
   "execution_count": 6,
   "metadata": {
    "collapsed": true
   },
   "outputs": [],
   "source": [
    "mwu_targeted_noise = mwu_noise = np.load(\"deepLearning-imagenet-targeted-3000.0-2-7-316/noise.npy\")[0]"
   ]
  },
  {
   "cell_type": "code",
   "execution_count": 7,
   "metadata": {
    "collapsed": false
   },
   "outputs": [
    {
     "data": {
      "text/plain": [
       "(50, 224, 224, 3)"
      ]
     },
     "execution_count": 7,
     "metadata": {},
     "output_type": "execute_result"
    }
   ],
   "source": [
    "mwu_targeted_noise.shape"
   ]
  },
  {
   "cell_type": "markdown",
   "metadata": {},
   "source": [
    "missing ensemble baseline for targeted noise, ensemble is about to finish so I'll run these then"
   ]
  },
  {
   "cell_type": "code",
   "execution_count": 10,
   "metadata": {
    "collapsed": false
   },
   "outputs": [],
   "source": [
    "baseline_folder = \"imagenet_baselines_targeted\"\n",
    "targeted_noise_baselines = [np.load(baseline_folder + \"/imagenet_baseline_2_targeted_{}/noise.npy\".format(i)) \n",
    "                            for i in xrange(5)]"
   ]
  },
  {
   "cell_type": "code",
   "execution_count": 11,
   "metadata": {
    "collapsed": false
   },
   "outputs": [
    {
     "name": "stdout",
     "output_type": "stream",
     "text": [
      "50/50 [==============================] - 66s 1s/step\n",
      "50/50 [==============================] - 26s 525ms/step\n",
      "50/50 [==============================] - 21s 418ms/step\n",
      "50/50 [==============================] - 14s 281ms/step\n",
      "50/50 [==============================] - 58s 1s/step\n",
      "50/50 [==============================] - 25s 491ms/step\n",
      "50/50 [==============================] - 21s 418ms/step\n",
      "50/50 [==============================] - 11s 218ms/step\n",
      "50/50 [==============================] - 53s 1s/step\n",
      "50/50 [==============================] - 21s 429ms/step\n",
      "50/50 [==============================] - 18s 351ms/step\n",
      "50/50 [==============================] - 11s 213ms/step\n",
      "50/50 [==============================] - 52s 1s/step\n",
      "50/50 [==============================] - 22s 442ms/step\n",
      "50/50 [==============================] - 17s 349ms/step\n",
      "50/50 [==============================] - 11s 213ms/step\n",
      "50/50 [==============================] - 52s 1s/step\n",
      "50/50 [==============================] - 21s 430ms/step\n",
      "50/50 [==============================] - 18s 351ms/step\n",
      "50/50 [==============================] - 11s 213ms/step\n"
     ]
    }
   ],
   "source": [
    "baseline_results_t = [[model.evaluate(X_exp + mwu_targeted_noise, Target_exp)[1] for model in models] \n",
    "                      for noise in targeted_noise_baselines]"
   ]
  },
  {
   "cell_type": "code",
   "execution_count": 12,
   "metadata": {
    "collapsed": false
   },
   "outputs": [
    {
     "data": {
      "text/plain": [
       "[[1.0, 0.0, 0.0, 0.0],\n",
       " [0.0, 0.020000000149011612, 0.0, 0.0],\n",
       " [0.0, 0.0, 1.0, 0.0],\n",
       " [0.0, 0.0, 0.0, 0.7200000071525574],\n",
       " [0.16000000178813933, 0.0, 0.3000000023841858, 0.1800000002980232]]"
      ]
     },
     "execution_count": 12,
     "metadata": {},
     "output_type": "execute_result"
    }
   ],
   "source": [
    "baseline_results_t"
   ]
  },
  {
   "cell_type": "code",
   "execution_count": 13,
   "metadata": {
    "collapsed": false
   },
   "outputs": [
    {
     "name": "stdout",
     "output_type": "stream",
     "text": [
      "50/50 [==============================] - 54s 1s/step\n",
      "50/50 [==============================] - 22s 435ms/step\n",
      "50/50 [==============================] - 18s 354ms/step\n",
      "50/50 [==============================] - 11s 216ms/step\n"
     ]
    }
   ],
   "source": [
    "mwu_results_t = [model.evaluate(X_exp + mwu_targeted_noise, Target_exp)[1] for model in models]"
   ]
  },
  {
   "cell_type": "code",
   "execution_count": 15,
   "metadata": {
    "collapsed": false
   },
   "outputs": [
    {
     "data": {
      "text/plain": [
       "[0.5200000011920929,\n",
       " 0.06000000014901161,\n",
       " 0.6800000071525574,\n",
       " 0.5200000023841858]"
      ]
     },
     "execution_count": 15,
     "metadata": {},
     "output_type": "execute_result"
    }
   ],
   "source": [
    "mwu_results_t"
   ]
  },
  {
   "cell_type": "code",
   "execution_count": null,
   "metadata": {
    "collapsed": true
   },
   "outputs": [],
   "source": []
  }
 ],
 "metadata": {
  "anaconda-cloud": {},
  "kernelspec": {
   "display_name": "Python [default]",
   "language": "python",
   "name": "python2"
  },
  "language_info": {
   "codemirror_mode": {
    "name": "ipython",
    "version": 2
   },
   "file_extension": ".py",
   "mimetype": "text/x-python",
   "name": "python",
   "nbconvert_exporter": "python",
   "pygments_lexer": "ipython2",
   "version": "2.7.12"
  }
 },
 "nbformat": 4,
 "nbformat_minor": 1
}
