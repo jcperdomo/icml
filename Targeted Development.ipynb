{
 "cells": [
  {
   "cell_type": "code",
   "execution_count": 1,
   "metadata": {
    "collapsed": true
   },
   "outputs": [],
   "source": [
    "import numpy as np"
   ]
  },
  {
   "cell_type": "code",
   "execution_count": 2,
   "metadata": {
    "collapsed": false
   },
   "outputs": [
    {
     "data": {
      "text/plain": [
       "array([ 0.1,  0.1,  0.1,  0.1,  0.1])"
      ]
     },
     "execution_count": 2,
     "metadata": {},
     "output_type": "execute_result"
    }
   ],
   "source": [
    "np.ones(5) /10"
   ]
  },
  {
   "cell_type": "code",
   "execution_count": 3,
   "metadata": {
    "collapsed": false
   },
   "outputs": [
    {
     "data": {
      "text/plain": [
       "array([ 1.,  1.,  1.,  1.,  1.])"
      ]
     },
     "execution_count": 3,
     "metadata": {},
     "output_type": "execute_result"
    }
   ],
   "source": [
    "np.ones(5)"
   ]
  },
  {
   "cell_type": "code",
   "execution_count": 4,
   "metadata": {
    "collapsed": false
   },
   "outputs": [
    {
     "data": {
      "text/plain": [
       "array([ 0.25,  0.55,  0.95])"
      ]
     },
     "execution_count": 4,
     "metadata": {},
     "output_type": "execute_result"
    }
   ],
   "source": [
    "np.mean(np.array([[.3,.6,.9], [.2,.5,1]]), axis=0)"
   ]
  },
  {
   "cell_type": "code",
   "execution_count": null,
   "metadata": {
    "collapsed": true
   },
   "outputs": [],
   "source": [
    "def distributionalOracleOneVsAll(distribution, models, x, y, alpha, targeted=False):\n",
    "    candidates = []\n",
    "    # we should only take into consideration models that we could feasibly trick\n",
    "\n",
    "    num_models = len(models)\n",
    "\n",
    "    labels_values = []\n",
    "    for labels in product(range(10), repeat=num_models):  # iterate over all possible regions\n",
    "        if targeted:\n",
    "            is_misclassified = (np.array(labels) == y).astype(np.float32)\n",
    "        else:\n",
    "            is_misclassified = (np.array(labels) != y).astype(np.float32)\n",
    "        value = np.dot(is_misclassified, distribution)\n",
    "        labels_values.append((labels, value))\n",
    "\n",
    "    values = sorted(set([value for label, value in labels_values]), reverse=True)\n",
    "\n",
    "    for curr_value in values:\n",
    "        feasible_candidates = []\n",
    "        for labels in [labels for labels, val in labels_values if val == curr_value]:\n",
    "            v = tryRegionOneVsAll(models, labels, x)\n",
    "            if v is not None:\n",
    "                norm = np.linalg.norm(v)\n",
    "                if norm <= alpha:\n",
    "                    feasible_candidates.append((v, norm))\n",
    "        # amongst those with the max value, return the one with the minimum norm\n",
    "        if feasible_candidates:\n",
    "            # break out of the loop since we have already found the optimal answer\n",
    "            return min(feasible_candidates, key=lambda x: x[1])[0]\n",
    "    return np.zeros(x.shape[0])  # we can't trick anything"
   ]
  },
  {
   "cell_type": "code",
   "execution_count": null,
   "metadata": {
    "collapsed": true
   },
   "outputs": [],
   "source": [
    "def coordinateAscentMulti(distribution, models, x, y, alpha, greedy=False, targeted=False):\n",
    "    # targeted needs to be the target label\n",
    "    num_models = len(models)\n",
    "\n",
    "    sol = np.zeros(x.shape)\n",
    "  \n",
    "    labels = [y] * num_models  # initialize to the original point, of length feasible_models\n",
    "    label_options = range(10)\n",
    "    del label_options[y]\n",
    "\n",
    "    model_options = dict(zip(range(num_models), distribution))\n",
    "    for i in xrange(num_models):\n",
    "        if greedy:  # select model with the highest probability weight\n",
    "            coord = max(model_options, key=model_options.get)\n",
    "            if targeted:\n",
    "                labels[coord] = targeted\n",
    "            else:\n",
    "                labels[coord] = greedy[y]\n",
    "        else:  # random: select a random model\n",
    "            coord = np.random.choice(model_options.keys())  \n",
    "            if targeted:\n",
    "                labels[coord] = targeted\n",
    "            else:\n",
    "                labels[coord] = np.random.choice(label_options)\n",
    "\n",
    "        del model_options[coord]\n",
    "\n",
    "        v = tryRegionOneVsAll(models, labels, x)\n",
    "        valid_sol = False\n",
    "        if v is not None:\n",
    "            norm = np.linalg.norm(v)\n",
    "            if norm <= alpha:\n",
    "                valid_sol = True\n",
    "                sol = v\n",
    "        if not valid_sol:\n",
    "            break\n",
    "    return sol"
   ]
  },
  {
   "cell_type": "code",
   "execution_count": 21,
   "metadata": {
    "collapsed": false
   },
   "outputs": [
    {
     "ename": "ValueError",
     "evalue": "too many values to unpack",
     "output_type": "error",
     "traceback": [
      "\u001b[0;31m---------------------------------------------------------------------------\u001b[0m",
      "\u001b[0;31mValueError\u001b[0m                                Traceback (most recent call last)",
      "\u001b[0;32m<ipython-input-21-72d82850441c>\u001b[0m in \u001b[0;36m<module>\u001b[0;34m()\u001b[0m\n\u001b[0;32m----> 1\u001b[0;31m \u001b[0mdata_dims\u001b[0m\u001b[0;34m,\u001b[0m \u001b[0mbox_vals\u001b[0m \u001b[0;34m=\u001b[0m \u001b[0;34m(\u001b[0m\u001b[0;36m28\u001b[0m\u001b[0;34m,\u001b[0m \u001b[0;36m1\u001b[0m\u001b[0;34m,\u001b[0m \u001b[0;36m10\u001b[0m\u001b[0;34m)\u001b[0m\u001b[0;34m,\u001b[0m \u001b[0;34m(\u001b[0m\u001b[0;34m-\u001b[0m\u001b[0;36m.5\u001b[0m\u001b[0;34m,\u001b[0m \u001b[0;36m.5\u001b[0m\u001b[0;34m)\u001b[0m \u001b[0;32mif\u001b[0m \u001b[0mTrue\u001b[0m \u001b[0;32melse\u001b[0m \u001b[0;34m(\u001b[0m\u001b[0;36m224\u001b[0m\u001b[0;34m,\u001b[0m \u001b[0;36m3\u001b[0m\u001b[0;34m,\u001b[0m \u001b[0;36m1000\u001b[0m\u001b[0;34m)\u001b[0m\u001b[0;34m,\u001b[0m \u001b[0;34m(\u001b[0m\u001b[0;36m0.0\u001b[0m\u001b[0;34m,\u001b[0m \u001b[0;36m255.0\u001b[0m\u001b[0;34m)\u001b[0m\u001b[0;34m\u001b[0m\u001b[0m\n\u001b[0m",
      "\u001b[0;31mValueError\u001b[0m: too many values to unpack"
     ]
    }
   ],
   "source": [
    "data_dims, box_vals = (28, 1, 10), (-.5, .5) if True else (224, 3, 1000), (0.0, 255.0)\n"
   ]
  },
  {
   "cell_type": "code",
   "execution_count": null,
   "metadata": {
    "collapsed": true
   },
   "outputs": [],
   "source": [
    "def gradientDescentTargeted(distribution, models, x, target, alpha, targeted=False, learning_rate=.001, T=3000, \n",
    "                            early_stop=5):\n",
    "    v = np.zeros(len(x))\n",
    "    best_sol = (sys.maxint, v)\n",
    "    loss_queue = []\n",
    "    for i in xrange(T):\n",
    "        gradient = sum([-1 * p * model.gradient(np.array([x + v]), [target]) for p, model in zip(distribution, models)])[0]\n",
    "\n",
    "        v += learning_rate * gradient\n",
    "        norm = np.linalg.norm(v)\n",
    "        if norm >= alpha:\n",
    "            v = v / norm * alpha\n",
    "\n",
    "        loss = np.dot(distribution, [model.rhinge_loss([x + v], [target])[0] for model in models])\n",
    "\n",
    "        loss_queue = [loss] + loss_queue\n",
    "        if i >= early_stop:\n",
    "            del loss_queue[-1]\n",
    "            val = loss_queue[-1]\n",
    "            if sum([val == q_val for q_val in loss_queue]) == early_stop:\n",
    "                break\n",
    "\n",
    "        if loss < best_sol[0]:\n",
    "            best_sol = (loss, v)\n",
    "\n",
    "        if loss == 0:\n",
    "            break\n",
    "    if targeted:\n",
    "        res = best_sol[1]\n",
    "    else:\n",
    "        res = best_sol\n",
    "    return res"
   ]
  },
  {
   "cell_type": "code",
   "execution_count": 5,
   "metadata": {
    "collapsed": true
   },
   "outputs": [],
   "source": [
    "Y_exp = np.load(\"multiclass_data_2/Y_exp.npy\")"
   ]
  },
  {
   "cell_type": "code",
   "execution_count": 9,
   "metadata": {
    "collapsed": false
   },
   "outputs": [],
   "source": [
    "Target_exp = []\n",
    "for y in Y_exp:\n",
    "    options = range(10)\n",
    "    del options[y]\n",
    "    Target_exp.append(np.random.choice(options))"
   ]
  },
  {
   "cell_type": "code",
   "execution_count": 12,
   "metadata": {
    "collapsed": false
   },
   "outputs": [],
   "source": [
    "np.save(\"multiclass_data_2/Target_exp.npy\", Target_exp) "
   ]
  },
  {
   "cell_type": "code",
   "execution_count": 13,
   "metadata": {
    "collapsed": true
   },
   "outputs": [],
   "source": [
    "t = np.load(\"multiclass_data_2/Target_exp.npy\")"
   ]
  },
  {
   "cell_type": "code",
   "execution_count": 14,
   "metadata": {
    "collapsed": false
   },
   "outputs": [
    {
     "data": {
      "text/plain": [
       "array([1, 9, 9, 5, 9, 7, 0, 4, 7, 6, 9, 8, 2, 5, 6, 6, 6, 5, 5, 5, 8, 5, 6,\n",
       "       2, 6, 5, 2, 5, 0, 6, 4, 8, 2, 7, 9, 7, 1, 1, 7, 5, 3, 2, 4, 5, 8, 5,\n",
       "       0, 1, 8, 9, 2, 8, 0, 8, 3, 1, 0, 2, 2, 8, 2, 6, 6, 5, 6, 9, 1, 0, 5,\n",
       "       6, 0, 1, 3, 0, 8, 8, 8, 7, 5, 5, 5, 3, 7, 2, 1, 0, 1, 6, 1, 1, 0, 8,\n",
       "       4, 9, 7, 9, 8, 5, 3, 1])"
      ]
     },
     "execution_count": 14,
     "metadata": {},
     "output_type": "execute_result"
    }
   ],
   "source": [
    "t"
   ]
  },
  {
   "cell_type": "code",
   "execution_count": 15,
   "metadata": {
    "collapsed": false
   },
   "outputs": [
    {
     "data": {
      "text/plain": [
       "[(1, 5, 6), (2, 34, 7)]"
      ]
     },
     "execution_count": 15,
     "metadata": {},
     "output_type": "execute_result"
    }
   ],
   "source": [
    "zip([1,2], [5,34], [6,7])"
   ]
  },
  {
   "cell_type": "code",
   "execution_count": 19,
   "metadata": {
    "collapsed": false
   },
   "outputs": [
    {
     "name": "stdout",
     "output_type": "stream",
     "text": [
      "1\n"
     ]
    }
   ],
   "source": [
    "if np.array([1,43]) is not False:\n",
    "    print 1"
   ]
  },
  {
   "cell_type": "code",
   "execution_count": 20,
   "metadata": {
    "collapsed": false
   },
   "outputs": [
    {
     "name": "stdout",
     "output_type": "stream",
     "text": [
      "2\n"
     ]
    }
   ],
   "source": [
    "if 4:\n",
    "    print 2"
   ]
  },
  {
   "cell_type": "code",
   "execution_count": null,
   "metadata": {
    "collapsed": true
   },
   "outputs": [],
   "source": []
  }
 ],
 "metadata": {
  "anaconda-cloud": {},
  "kernelspec": {
   "display_name": "Python [default]",
   "language": "python",
   "name": "python2"
  },
  "language_info": {
   "codemirror_mode": {
    "name": "ipython",
    "version": 2
   },
   "file_extension": ".py",
   "mimetype": "text/x-python",
   "name": "python",
   "nbconvert_exporter": "python",
   "pygments_lexer": "ipython2",
   "version": "2.7.12"
  }
 },
 "nbformat": 4,
 "nbformat_minor": 1
}
