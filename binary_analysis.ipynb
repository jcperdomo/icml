{
 "cells": [
  {
   "cell_type": "code",
   "execution_count": 1,
   "metadata": {
    "collapsed": true
   },
   "outputs": [],
   "source": [
    "import numpy as np\n",
    "import matplotlib.pyplot as plt\n",
    "from linear_models import LinearBinaryClassifier, LinearOneVsAllClassifier\n",
    "%matplotlib inline"
   ]
  },
  {
   "cell_type": "code",
   "execution_count": 2,
   "metadata": {
    "collapsed": true
   },
   "outputs": [],
   "source": [
    "folders = ['oracle', 'randomAscent', 'greedyAscent', 'gradientDescent']"
   ]
  },
  {
   "cell_type": "code",
   "execution_count": 11,
   "metadata": {
    "collapsed": false
   },
   "outputs": [],
   "source": [
    "loss_histories = []\n",
    "max_acc_histories = []\n",
    "\n",
    "for folder in folders:\n",
    "    lh = np.load('binary_experiments/binary-'+folder+\"-1-17/loss_history.npy\")\n",
    "    loss_histories.append(lh)\n",
    "    ma = np.load('binary_experiments/binary-'+folder+\"-1-17/max_acc_history.npy\")\n",
    "    max_acc_histories.append(ma)"
   ]
  },
  {
   "cell_type": "code",
   "execution_count": 28,
   "metadata": {
    "collapsed": false
   },
   "outputs": [],
   "source": [
    "data_path = \"binary_data_2\"\n",
    "models = []\n",
    "exp_type = \"binary\"\n",
    "num_classifiers = 5\n",
    "alpha = .5\n",
    "\n",
    "X_exp = np.load(data_path + \"/\" + \"X_exp.npy\")\n",
    "Y_exp = np.load(data_path + \"/\" + \"Y_exp.npy\")\n",
    "\n",
    "for i in xrange(num_classifiers):\n",
    "    weights = np.load(data_path + \"/\" + \"weights_{}.npy\".format(i))\n",
    "    bias = np.load(data_path + \"/\" + \"bias_{}.npy\".format(i))\n",
    "    if exp_type == \"binary\":\n",
    "        model = LinearBinaryClassifier(weights, bias)\n",
    "    else:\n",
    "        model = LinearOneVsAllClassifier(10, weights, bias)\n",
    "    models.append(model)"
   ]
  },
  {
   "cell_type": "code",
   "execution_count": 29,
   "metadata": {
    "collapsed": false
   },
   "outputs": [],
   "source": [
    "ensemble_weights = sum([1.0 / num_classifiers * model.weights for model in models ])\n",
    "ensemble_bias = sum([1.0 / num_classifiers * model.bias for model in models ])"
   ]
  },
  {
   "cell_type": "code",
   "execution_count": 30,
   "metadata": {
    "collapsed": false
   },
   "outputs": [],
   "source": [
    "ensemble_model = LinearBinaryClassifier(ensemble_weights, ensemble_bias)"
   ]
  },
  {
   "cell_type": "code",
   "execution_count": 31,
   "metadata": {
    "collapsed": false
   },
   "outputs": [
    {
     "data": {
      "text/plain": [
       "1.0"
      ]
     },
     "execution_count": 31,
     "metadata": {},
     "output_type": "execute_result"
    }
   ],
   "source": [
    "ensemble_model.evaluate(X_exp, Y_exp)"
   ]
  },
  {
   "cell_type": "code",
   "execution_count": 61,
   "metadata": {
    "collapsed": false
   },
   "outputs": [],
   "source": [
    "def normalize(noise, alpha):\n",
    "    for i in range(noise.shape[0]):\n",
    "        noise[i] = noise[i] / np.linalg.norm(noise[i]) * alpha\n",
    "    return noise\n",
    "\n",
    "noise_ensemble =  -1 * ensemble_model.gradient(X_exp, Y_exp)\n",
    "noise_ensemble = normalize(noise_ensemble, alpha)\n",
    "\n",
    "individual_noise = [-1 * model.gradient(X_exp, Y_exp) for model in models]\n",
    "individual_noise = [normalize(noise, alpha) for noise in individual_noise]"
   ]
  },
  {
   "cell_type": "code",
   "execution_count": 62,
   "metadata": {
    "collapsed": false
   },
   "outputs": [],
   "source": [
    "max_model = [max([model.evaluate(X_exp + noise, Y_exp) for model in models]) for noise in individual_noise]"
   ]
  },
  {
   "cell_type": "code",
   "execution_count": 65,
   "metadata": {
    "collapsed": false
   },
   "outputs": [
    {
     "data": {
      "text/plain": [
       "0.91"
      ]
     },
     "execution_count": 65,
     "metadata": {},
     "output_type": "execute_result"
    }
   ],
   "source": [
    "min(max_model)"
   ]
  },
  {
   "cell_type": "code",
   "execution_count": 35,
   "metadata": {
    "collapsed": false
   },
   "outputs": [],
   "source": [
    "ensemble_res = max([model.evaluate(X_exp + noise_ensemble, Y_exp) for model in models])"
   ]
  },
  {
   "cell_type": "code",
   "execution_count": 56,
   "metadata": {
    "collapsed": false
   },
   "outputs": [
    {
     "data": {
      "text/plain": [
       "0.71"
      ]
     },
     "execution_count": 56,
     "metadata": {},
     "output_type": "execute_result"
    }
   ],
   "source": [
    "ensemble_res"
   ]
  },
  {
   "cell_type": "code",
   "execution_count": 59,
   "metadata": {
    "collapsed": false
   },
   "outputs": [
    {
     "data": {
      "text/plain": [
       "[1.0, 0.99, 0.99, 0.97, 0.94, 0.91, 0.89, 0.85, 0.81, 0.77, 0.73]"
      ]
     },
     "execution_count": 59,
     "metadata": {},
     "output_type": "execute_result"
    }
   ],
   "source": [
    "best_model_trend"
   ]
  },
  {
   "cell_type": "code",
   "execution_count": 41,
   "metadata": {
    "collapsed": false
   },
   "outputs": [],
   "source": [
    "ensemble_trend = []\n",
    "best_model_trend = []\n",
    "\n",
    "for a in np.linspace(0,1,11):\n",
    "    noise_ensemble =  -1 * ensemble_model.gradient(X_exp, Y_exp)\n",
    "    noise_ensemble = normalize(noise_ensemble, a)\n",
    "\n",
    "    individual_noise = [-1 * model.gradient(X_exp, Y_exp) for model in models]\n",
    "    individual_noise = [normalize(noise, a) for noise in individual_noise]\n",
    "    \n",
    "    ensemble_trend.append(max([model.evaluate(X_exp + noise_ensemble, Y_exp) for model in models]))\n",
    "    best_model_trend.append(min([max([model.evaluate(X_exp + noise, Y_exp) for model in models]) \n",
    "                             for noise in individual_noise]))"
   ]
  },
  {
   "cell_type": "code",
   "execution_count": 73,
   "metadata": {
    "collapsed": false
   },
   "outputs": [
    {
     "data": {
      "text/plain": [
       "<matplotlib.text.Text at 0x1101304d0>"
      ]
     },
     "execution_count": 73,
     "metadata": {},
     "output_type": "execute_result"
    },
    {
     "data": {
      "image/png": "[encoded data removed]",
      "text/plain": [
       "<matplotlib.figure.Figure at 0x1102dab50>"
      ]
     },
     "metadata": {},
     "output_type": "display_data"
    }
   ],
   "source": [
    "display_folders = [\"oracle\", 'random ascent', 'greedy ascent', 'reverse hinge loss']\n",
    "colors = [\"blue\", \"green\", \"red\", \"cyan\"]\n",
    "for i, ma in enumerate(max_acc_histories):\n",
    "    plt.plot(range(100), ma, color=colors[i])\n",
    "plt.plot(range(100), [ensemble_trend[5]] * 100, linestyle=\"--\", color=\"purple\")\n",
    "plt.plot(range(100), [best_model_trend[5]] * 100, linestyle=\"--\", color=\"black\")\n",
    "# plt.legend(display_folders + [\"ensemble baseline\"], loc=\"right\", bbox_to_anchor=(1,.55), fontsize=8)\n",
    "plt.title(\"Universal Noise Linear Binary Classifiers\")\n",
    "plt.ylabel(\"Max Accuracy\")\n",
    "plt.xlabel(\"MWU Round\")"
   ]
  },
  {
   "cell_type": "code",
   "execution_count": null,
   "metadata": {
    "collapsed": false
   },
   "outputs": [],
   "source": [
    "for lh in loss_histories:\n",
    "    plt.plot(range(100), lh)\n",
    "plt.legend(folders, loc=\"right\", bbox_to_anchor=(1.5,.5))\n",
    "plt.title(\"Loss of Learner - Binary Experiments\")\n",
    "plt.ylabel(\"Loss\")\n",
    "plt.xlabel(\"MWU Round\")"
   ]
  },
  {
   "cell_type": "code",
   "execution_count": null,
   "metadata": {
    "collapsed": false
   },
   "outputs": [],
   "source": [
    "max_acc_histories[0][-1]"
   ]
  },
  {
   "cell_type": "code",
   "execution_count": null,
   "metadata": {
    "collapsed": true
   },
   "outputs": [],
   "source": [
    "def findAlphaEquivalent(ensemble_model, X_exp, Y_exp, alpha, target):\n",
    "    noise =  -1 * ensemble_model.gradient(X_exp, Y_exp)\n",
    "    for i in range(noise.shape[0]):\n",
    "        noise[i] = noise[i] / np.linalg.norm(noise[i]) * alpha\n",
    "\n",
    "    res = max([model.evaluate(X_exp + noise, Y_exp) for model in models])\n",
    "    \n",
    "    if res > target:\n",
    "        return findAlphaEquivalent(ensemble_model, X_exp, Y_exp, alpha + .01, target)\n",
    "    else:\n",
    "        return alpha\n",
    "    "
   ]
  },
  {
   "cell_type": "code",
   "execution_count": null,
   "metadata": {
    "collapsed": false
   },
   "outputs": [],
   "source": [
    "findAlphaEquivalent(ensemble_model, X_exp, Y_exp, .5, .3944)"
   ]
  },
  {
   "cell_type": "code",
   "execution_count": null,
   "metadata": {
    "collapsed": false
   },
   "outputs": [],
   "source": [
    "for i in range(noise.shape[0]):\n",
    "        noise[i] = noise[i] / np.linalg.norm(noise[i]) * .70\n",
    "print max([model.evaluate(X_exp + noise, Y_exp) for model in models])\n",
    "    "
   ]
  },
  {
   "cell_type": "code",
   "execution_count": 9,
   "metadata": {
    "collapsed": false
   },
   "outputs": [],
   "source": [
    "loss_histories = []\n",
    "max_acc_histories = []\n",
    "\n",
    "results = []\n",
    "\n",
    "for folder in folders:\n",
    "    noise_res = []\n",
    "    for x in [\"0.1\", \"0.2\", \"0.3\", \"0.4\", \"0.6\", \"0.7\", \"0.8\", \"0.9\", \"1.0\"]:\n",
    "        ma = np.load('binary_experiments/binary-untargeted-'+folder+\"-{}\".format(x)+\"-2-3/acc_history.npy\")\n",
    "        noise_res.append(ma[-1])\n",
    "    results.append(noise_res)\n"
   ]
  },
  {
   "cell_type": "code",
   "execution_count": 16,
   "metadata": {
    "collapsed": false
   },
   "outputs": [
    {
     "data": {
      "text/plain": [
       "[0.9699999999999992,\n",
       " 0.8902000000000004,\n",
       " 0.7628999999999999,\n",
       " 0.5379000000000006]"
      ]
     },
     "execution_count": 16,
     "metadata": {},
     "output_type": "execute_result"
    }
   ],
   "source": [
    "results[0][:4]"
   ]
  },
  {
   "cell_type": "code",
   "execution_count": 17,
   "metadata": {
    "collapsed": false
   },
   "outputs": [],
   "source": [
    "for i in xrange(len(folders)):\n",
    "    results[i] = results[i][:4] + [max_acc_histories[i][-1]] + results[i][4:]"
   ]
  },
  {
   "cell_type": "code",
   "execution_count": 25,
   "metadata": {
    "collapsed": false
   },
   "outputs": [
    {
     "data": {
      "text/plain": [
       "array([0. , 0.1, 0.2, 0.3, 0.4, 0.5, 0.6, 0.7, 0.8, 0.9, 1. ])"
      ]
     },
     "execution_count": 25,
     "metadata": {},
     "output_type": "execute_result"
    }
   ],
   "source": [
    "np.linspace(0,1,11)"
   ]
  },
  {
   "cell_type": "code",
   "execution_count": 81,
   "metadata": {
    "collapsed": false
   },
   "outputs": [
    {
     "data": {
      "text/plain": [
       "<matplotlib.text.Text at 0x111471150>"
      ]
     },
     "execution_count": 81,
     "metadata": {},
     "output_type": "execute_result"
    },
    {
     "data": {
      "image/png": "[encoded data removed]",
      "text/plain": [
       "<matplotlib.figure.Figure at 0x111633850>"
      ]
     },
     "metadata": {},
     "output_type": "display_data"
    }
   ],
   "source": [
    "display_folders = [\"oracle\", 'random ascent', 'greedy ascent', 'reverse hinge loss']\n",
    "colors = [\"blue\", \"green\", \"red\", \"cyan\"]\n",
    "for i, r in enumerate(results):\n",
    "    plt.plot(np.linspace(0, 1, 11), [1.0] + r, color=colors[i])\n",
    "plt.plot(np.linspace(0, 1, 11), ensemble_trend, linestyle=\"--\", color=\"purple\")\n",
    "plt.plot(np.linspace(0, 1, 11), best_model_trend, linestyle=\"--\", color=\"black\")\n",
    "plt.legend(display_folders + [\"ensemble baseline\", \"individual baseline\"], loc=\"right\", \n",
    "           bbox_to_anchor=(.43,.26), fontsize=10)\n",
    "plt.title(\"Universal Noise Linear Binary Classifiers\")\n",
    "plt.ylabel(\"Max Accuracy\")\n",
    "plt.xlabel(\"Noise Budget\")"
   ]
  },
  {
   "cell_type": "code",
   "execution_count": 8,
   "metadata": {
    "collapsed": false
   },
   "outputs": [
    {
     "data": {
      "text/plain": [
       "['weights_60.npy',\n",
       " 'loss_history_10.npy',\n",
       " 'acc_history_10.npy',\n",
       " 'noise_30.npy',\n",
       " 'action_loss_10.npy',\n",
       " 'binary-untargeted-oracle-0.1-2-3.log',\n",
       " 'noise.npy',\n",
       " 'noise_20.npy',\n",
       " 'weights_70.npy',\n",
       " 'acc_history_70.npy',\n",
       " 'noise_50.npy',\n",
       " 'action_loss_70.npy',\n",
       " 'noise_90.npy',\n",
       " 'loss_history_70.npy',\n",
       " 'loss_history.npy',\n",
       " 'loss_history_60.npy',\n",
       " 'weights_10.npy',\n",
       " 'noise_80.npy',\n",
       " 'action_loss_60.npy',\n",
       " 'noise_40.npy',\n",
       " 'acc_history_60.npy',\n",
       " 'weights.npy',\n",
       " 'loss_history_90.npy',\n",
       " 'action_loss_50.npy',\n",
       " 'noise_70.npy',\n",
       " 'acc_history_50.npy',\n",
       " 'loss_history_50.npy',\n",
       " 'weights_20.npy',\n",
       " 'action_loss_90.npy',\n",
       " 'acc_history_90.npy',\n",
       " 'acc_history_80.npy',\n",
       " 'action_loss_80.npy',\n",
       " 'weights_30.npy',\n",
       " 'loss_history_40.npy',\n",
       " 'acc_history_40.npy',\n",
       " 'noise_60.npy',\n",
       " 'action_loss_40.npy',\n",
       " 'loss_history_80.npy',\n",
       " 'acc_history.npy',\n",
       " 'loss_history_30.npy',\n",
       " 'weights_40.npy',\n",
       " 'weights_80.npy',\n",
       " 'action_loss_30.npy',\n",
       " 'noise_10.npy',\n",
       " 'acc_history_30.npy',\n",
       " 'acc_history_20.npy',\n",
       " 'action_loss_20.npy',\n",
       " 'weights_90.npy',\n",
       " 'action_loss.npy',\n",
       " 'weights_50.npy',\n",
       " 'loss_history_20.npy']"
      ]
     },
     "execution_count": 8,
     "metadata": {},
     "output_type": "execute_result"
    }
   ],
   "source": [
    "import os\n",
    "os.listdir(\"binary_experiments/binary-untargeted-oracle-0.1-2-3\")"
   ]
  },
  {
   "cell_type": "code",
   "execution_count": null,
   "metadata": {
    "collapsed": true
   },
   "outputs": [],
   "source": []
  }
 ],
 "metadata": {
  "anaconda-cloud": {},
  "kernelspec": {
   "display_name": "Python [default]",
   "language": "python",
   "name": "python2"
  },
  "language_info": {
   "codemirror_mode": {
    "name": "ipython",
    "version": 2
   },
   "file_extension": ".py",
   "mimetype": "text/x-python",
   "name": "python",
   "nbconvert_exporter": "python",
   "pygments_lexer": "ipython2",
   "version": "2.7.12"
  }
 },
 "nbformat": 4,
 "nbformat_minor": 1
}
