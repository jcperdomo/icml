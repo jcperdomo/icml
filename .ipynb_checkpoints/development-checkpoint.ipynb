{
 "cells": [
  {
   "cell_type": "code",
   "execution_count": null,
   "metadata": {
    "collapsed": false
   },
   "outputs": [],
   "source": [
    "from setup_mnist import MNIST\n",
    "import helper\n",
    "import numpy as np\n",
    "import time\n",
    "import matplotlib.pyplot as plt\n",
    "from sklearn import svm\n",
    "from cvxopt import matrix, solvers\n",
    "from itertools import product\n",
    "%matplotlib inline"
   ]
  },
  {
   "cell_type": "code",
   "execution_count": null,
   "metadata": {
    "collapsed": true
   },
   "outputs": [],
   "source": [
    "data = MNIST()"
   ]
  },
  {
   "cell_type": "code",
   "execution_count": null,
   "metadata": {
    "collapsed": false
   },
   "outputs": [],
   "source": [
    "label_dict = {4:-1, 9:1}\n",
    "X_train, Y_train = helper.subsetData(data.train_data, data.train_labels, label_dict)\n",
    "X_train, Y_train, _ = helper.shuffleArraysInUnison(X_train, Y_train)"
   ]
  },
  {
   "cell_type": "code",
   "execution_count": null,
   "metadata": {
    "collapsed": false
   },
   "outputs": [],
   "source": [
    "X_test, Y_test = helper.subsetData(data.test_data, data.test_labels, label_dict)"
   ]
  },
  {
   "cell_type": "code",
   "execution_count": null,
   "metadata": {
    "collapsed": false
   },
   "outputs": [],
   "source": [
    "class LinearBinaryClassifier(object):\n",
    "    \"\"\"\n",
    "    Class for Linear Binary Classifiers\n",
    "    \n",
    "    weights: np array of shape (dim, 1)\n",
    "    bias: scalar\n",
    "    \"\"\"\n",
    "    def __init__(self, weights, bias):\n",
    "        self.weights = tf.constant(weights)\n",
    "        self.bias = tf.constant(bias)\n",
    "\n",
    "    def predict(self, X):\n",
    "        \"\"\"\n",
    "        X: np array of shape (num_points, dim) \n",
    "        \n",
    "        returns: a vector of shape (num_points,) with predicted labels for each point\n",
    "        \"\"\"\n",
    "        return np.sign(tf.matmul(X, self.weights) + self.bias).T[0]\n",
    "    \n",
    "    def distance(self, X):\n",
    "        \"\"\"\n",
    "        Computes the signed distance from a point to the decision boundary (hyperplane)\n",
    "        \n",
    "        returns: a vector of shape (num_points,) with the correspoding distances\n",
    "        \"\"\"\n",
    "        return abs((np.matmul(X, self.weights) + self.bias) / np.linalg.norm(self.weights)).T[0]\n",
    "    \n",
    "    def evaluate(self, X, Y):\n",
    "        \"\"\"\n",
    "        returns accuracy\n",
    "        \"\"\"\n",
    "        return np.mean(np.equal(self.predict(X), Y))\n",
    "    \n",
    "     def gradient(self, X, Y):\n",
    "        \"\"\"\n",
    "        returns gradient\n",
    "        \"\"\"\n",
    "        return np.array([Y[i] * self.weights.reshape(-1,) if self.predict(X[i]) == Y[i] \n",
    "                         else np.zeros(self.dim) for i in xrange(len(X))])"
   ]
  },
  {
   "cell_type": "code",
   "execution_count": null,
   "metadata": {
    "collapsed": false
   },
   "outputs": [],
   "source": [
    "# train the classifiers\n",
    "n = 4\n",
    "train_size = len(X_train) / n\n",
    "\n",
    "binary_classifiers = []\n",
    "\n",
    "for i in xrange(n):\n",
    "    model = svm.SVC(kernel = \"linear\")\n",
    "    start = train_size * i\n",
    "    end = start + train_size\n",
    "    model.fit(X_train[start:end], Y_train[start:end])\n",
    "    lbc = LinearBinaryClassifier(model.coef_.T, model.intercept_)\n",
    "    print i, start, end, lbc.evaluate(X_test, Y_test)\n",
    "    binary_classifiers.append(lbc)\n"
   ]
  },
  {
   "cell_type": "code",
   "execution_count": null,
   "metadata": {
    "collapsed": true
   },
   "outputs": [],
   "source": [
    "def tryRegionBinary(models, signs, x, delta=1e-10):\n",
    "    \"\"\"\n",
    "    models: list of LinearBinaryClassifiers\n",
    "    signs: list of signs of length num_models\n",
    "    x: np array of shape dim\n",
    "    finds a vector in the region denoted by the signs vector\n",
    "    \"\"\"\n",
    "    dim = x.shape[0]\n",
    "    P = matrix(np.identity(dim))\n",
    "    q = matrix(np.zeros(dim))\n",
    "    h = []\n",
    "    G = []\n",
    "    num_models = len(models)\n",
    "    for i in xrange(num_models):\n",
    "        weights, bias = models[i].weights.T, models[i].bias\n",
    "        ineq_val  = -1.0 * delta + signs[i] * (np.dot(weights, x) + bias)\n",
    "        h.append(ineq_val[0])\n",
    "        G.append(-1.0 * signs[i] * weights.reshape(-1,))\n",
    "    h = matrix(h)\n",
    "    G = matrix(np.array(G))\n",
    "    solvers.options['show_progress'] = False\n",
    "    sol = solvers.qp(P, q, G, h)\n",
    "    if sol['status'] == 'optimal':\n",
    "        v = np.array(sol['x']).reshape(-1,)\n",
    "        perturbed_x = np.array(x + v).reshape(1, -1)\n",
    "        is_desired_sign = [models[i].predict(perturbed_x)[0] == signs[i] for i in xrange(num_models)]\n",
    "        if sum(is_desired_sign) == num_models:\n",
    "            return v\n",
    "        else:\n",
    "            return tryRegionBinary(models, signs, x, delta * 1.5)\n",
    "    else:\n",
    "        return None"
   ]
  },
  {
   "cell_type": "code",
   "execution_count": null,
   "metadata": {
    "collapsed": false
   },
   "outputs": [],
   "source": [
    "t = binary_classifiers[0]\n",
    "x = X_test[0]\n",
    "y = Y_test[0]\n",
    "print y"
   ]
  },
  {
   "cell_type": "code",
   "execution_count": null,
   "metadata": {
    "collapsed": false
   },
   "outputs": [],
   "source": [
    "[model.predict(x) for model in binary_classifiers]"
   ]
  },
  {
   "cell_type": "code",
   "execution_count": null,
   "metadata": {
    "collapsed": false
   },
   "outputs": [],
   "source": [
    "for s in product([-1.0, 1.0], repeat=n):\n",
    "    v = tryRegionBinary(binary_classifiers, s, x)\n",
    "    print s, [model.predict(x +  v) for model in binary_classifiers]"
   ]
  },
  {
   "cell_type": "code",
   "execution_count": null,
   "metadata": {
    "collapsed": true
   },
   "outputs": [],
   "source": [
    "def distributionalOracle(distribution, models, x, y, alpha):\n",
    "    candidates = []\n",
    "    num_models = len(models)\n",
    "    # we should only take into consideration models that we could feasibly trick\n",
    "    dists = [model.distance(x) for model in models]\n",
    "    feasible_models = [models[i] for i in xrange(num_models) if dists[i] < alpha]\n",
    "    distribution = np.array([distribution[i] for i in xrange(num_models) if dists[i] < alpha])\n",
    "    num_models = len(feasible_models)\n",
    "    \n",
    "    # can't trick anything\n",
    "    if num_models == 0:\n",
    "        return np.zeros(x.shape)\n",
    "\n",
    "    signs_values = []\n",
    "    for signs in product([-1.0, 1.0], repeat=num_models):  # iterate over all possible regions\n",
    "        is_misclassified = np.equal(-1.0 * y * np.ones(num_models), signs)  # y = -1, or 1\n",
    "        value = np.dot(is_misclassified, distribution)\n",
    "        signs_values.append((signs, value))\n",
    "\n",
    "    values = sorted(set([value for signs, value in signs_values]), reverse=True)\n",
    "    for value in values:\n",
    "        feasible_candidates = []\n",
    "        for signs in [sign for sign, val in signs_values if val == value]:\n",
    "            v = tryRegionBinary(feasible_models, signs, x)\n",
    "            if v is not None:\n",
    "                norm = np.linalg.norm(v)\n",
    "                if norm <= alpha:\n",
    "                    feasible_candidates.append((v, norm))\n",
    "        # amongst those with the max value, return the one with the minimum norm\n",
    "        if feasible_candidates:\n",
    "            # break out of the loop since we have already found the optimal answer\n",
    "            return min(feasible_candidates, key=lambda x: x[1])[0]"
   ]
  },
  {
   "cell_type": "code",
   "execution_count": null,
   "metadata": {
    "collapsed": false
   },
   "outputs": [],
   "source": [
    "def coordinateAscent(distribution, models, x, y, alpha, greedy=True):\n",
    "    \n",
    "    dists = [model.distance(x) for model in models]\n",
    "    num_models = len(models)\n",
    "    feasible_models = [models[i] for i in xrange(num_models) if dists[i] < alpha]\n",
    "    distribution = np.array([distribution[i] for i in xrange(num_models) if dists[i] < alpha])\n",
    "    num_models = len(feasible_models)\n",
    "    \n",
    "    sol = np.zeros(x.shape)\n",
    "    \n",
    "    # can't trick anything\n",
    "    if num_models == 0:\n",
    "        return sol\n",
    "    \n",
    "    signs = [y] * num_models # initialize to the original point, of length feasible_models\n",
    "    options = dict(zip(range(num_models), distribution))\n",
    "#     print \"Options \", options\n",
    "    for i in xrange(num_models):\n",
    "        \n",
    "        if greedy:\n",
    "            coord = max(options, key=options.get)\n",
    "        else:\n",
    "            coord = np.random.choice(options.keys())\n",
    "        \n",
    "#         print \"i, Selected Coordinate \", i, coord\n",
    "        del options[coord]    \n",
    "#         print \"Curr Options \", options\n",
    "        signs[coord] *= -1    \n",
    "#         print signs\n",
    "        v = tryRegionBinary(feasible_models, signs, x)\n",
    "        \n",
    "        valid_sol = False\n",
    "        if v is not None:\n",
    "#             print \"not None\"\n",
    "            norm = np.linalg.norm(v)\n",
    "#             print \"norm \", norm\n",
    "            if norm <= alpha:\n",
    "#                 print \"norm is good\"\n",
    "                valid_sol = True\n",
    "                sol = v\n",
    "        if not valid_sol:\n",
    "#             print \"BreaKkkkkk\"\n",
    "            break\n",
    "        \n",
    "#         print \"Predicted Signs \", [model.predict(x + sol) for model in feasible_models]\n",
    "#         print\n",
    "#     print \"Final Predicted Signs \", [model.predict(x + sol) for model in feasible_models]\n",
    "\n",
    "#     print np.linalg.norm(sol)\n",
    "    return sol"
   ]
  },
  {
   "cell_type": "code",
   "execution_count": null,
   "metadata": {
    "collapsed": true
   },
   "outputs": [],
   "source": [
    "def adversary(distribution, models, X, Y, alpha, noiseFunc):\n",
    "    return np.array([noiseFunc(distribution, models, x, y, alpha) for x, y in zip(X,Y)])"
   ]
  },
  {
   "cell_type": "code",
   "execution_count": null,
   "metadata": {
    "collapsed": true
   },
   "outputs": [],
   "source": [
    "def evaluateCosts(models, V, X, Y):\n",
    "    return np.array([1 - model.evaluate(X + V, Y) for model in models])"
   ]
  },
  {
   "cell_type": "code",
   "execution_count": null,
   "metadata": {
    "collapsed": false
   },
   "outputs": [],
   "source": [
    "def runMWU(models, T, X, Y, alpha, noiseFunc, epsilon=None):\n",
    "    num_models = len(models)\n",
    "\n",
    "    if epsilon is None:\n",
    "        delta = np.sqrt(4 * np.log(num_models) / float(T))\n",
    "        epsilon = delta / 2.0\n",
    "    else:\n",
    "        delta = 2.0 * epsilon\n",
    "\n",
    "    print \"Running MWU for {} Iterations with Epsilon {}\\n\".format(T, epsilon)\n",
    "\n",
    "    print \"Guaranteed to be within {} of the minimax value \\n\".format(delta)\n",
    "\n",
    "    loss_history = []\n",
    "    costs = []\n",
    "    max_acc_history = []\n",
    "    v = []\n",
    "    w = []\n",
    "\n",
    "    w.append(np.ones(num_models) / num_models)\n",
    "\n",
    "    for t in xrange(T):\n",
    "        print \"Iteration \", t\n",
    "        print\n",
    "        start_time = time.time()\n",
    "\n",
    "        v_t = adversary(w[t], models, X, Y, alpha, noiseFunc)\n",
    "        v.append(v_t)\n",
    "\n",
    "        cost_t = evaluateCosts(models, v_t, X, Y)\n",
    "        costs.append(cost_t)\n",
    "\n",
    "        print \"Shape of costs matrix\", np.array(costs).shape\n",
    "        avg_acc = np.mean((1 - np.array(costs)), axis=0)\n",
    "        max_acc = max(avg_acc)\n",
    "        max_acc_history.append(max_acc)\n",
    "\n",
    "        loss = np.dot(w[t], cost_t)\n",
    "        individual = [w[t][j] * cost_t[j] for j in xrange(num_models)]\n",
    "        \n",
    "        \n",
    "        print \"Weights, \", w[t], sum(w[t])\n",
    "        print \"Maximum (Average) Accuracy of Classifier \", max_acc\n",
    "        print \"Cost (Before Noise), \", np.array([1 - model.evaluate(X, Y) for model in models])\n",
    "        print \"Cost (After Noise), \", cost_t\n",
    "        print \"Loss, \", loss, individual\n",
    "\n",
    "        loss_history.append(loss)\n",
    "\n",
    "        new_w = np.copy(w[t])\n",
    "\n",
    "        # penalize experts\n",
    "        for i in xrange(num_models):\n",
    "            new_w[i] *= (1.0 - epsilon) ** cost_t[i]\n",
    "\n",
    "        # renormalize weights\n",
    "        w_sum = new_w.sum()\n",
    "        for i in xrange(num_models - 1):\n",
    "            new_w[i] = new_w[i] / w_sum\n",
    "        new_w[-1] = 1.0 - new_w[:-1].sum()\n",
    "\n",
    "        w.append(new_w)\n",
    "\n",
    "        print\n",
    "        print \"time spent \", time.time() - start_time\n",
    "        print\n",
    "\n",
    "    return w, v, loss_history, max_acc_history"
   ]
  },
  {
   "cell_type": "code",
   "execution_count": null,
   "metadata": {
    "collapsed": false
   },
   "outputs": [],
   "source": [
    "X_experiment, Y_experiment = helper.generate_data(200, X_test, Y_test, binary_classifiers)"
   ]
  },
  {
   "cell_type": "code",
   "execution_count": null,
   "metadata": {
    "collapsed": true
   },
   "outputs": [],
   "source": [
    "def findNoiseBounds(models, X, Y):\n",
    "    max_bounds = []\n",
    "    num_models = len(models)\n",
    "    for i in xrange(len(X)):\n",
    "        max_r = -1 * Y[i] * np.ones(num_models)\n",
    "        max_v = tryRegionBinary(models, max_r, X[i])\n",
    "        max_bounds.append(np.linalg.norm(max_v))\n",
    "    min_bounds = np.array([model.distance(X) for model in models]).T\n",
    "    min_bounds = np.mean(min_bounds, axis=1)\n",
    "    return max_bounds, min_bounds"
   ]
  },
  {
   "cell_type": "code",
   "execution_count": null,
   "metadata": {
    "collapsed": false
   },
   "outputs": [],
   "source": [
    "mm, mi = findNoiseBounds(binary_classifiers, X_experiment, Y_experiment)"
   ]
  },
  {
   "cell_type": "code",
   "execution_count": null,
   "metadata": {
    "collapsed": false
   },
   "outputs": [],
   "source": [
    "np.mean(mm), np.mean(mi)"
   ]
  },
  {
   "cell_type": "code",
   "execution_count": null,
   "metadata": {
    "collapsed": false
   },
   "outputs": [],
   "source": [
    "res = runMWU(binary_classifiers, 20, X_experiment, Y_experiment, .5, coordinateAscent)"
   ]
  },
  {
   "cell_type": "code",
   "execution_count": null,
   "metadata": {
    "collapsed": false
   },
   "outputs": [],
   "source": [
    "def train0Layer(train_X, train_Y):\n",
    "    dim = train_X.shape[1]\n",
    "    model = Sequential()\n",
    "    model.add(Dense(1, input_dim=dim, activation=\"linear\", kernel_regularizer=regularizers.l2(0.01),))\n",
    "    model.compile(loss=\"hinge\", optimizer=\"sgd\")\n",
    "    model.fit(train_X, train_Y, nb_epoch=50, verbose=0)\n",
    "    return model"
   ]
  },
  {
   "cell_type": "code",
   "execution_count": null,
   "metadata": {
    "collapsed": false
   },
   "outputs": [],
   "source": [
    "nns = []\n",
    "train_size = 1000\n",
    "init = 5\n",
    "for i in xrange(5):\n",
    "    start = train_size * (i + init)\n",
    "    end = start + train_size\n",
    "    print start, end\n",
    "    model = train0Layer(X_train[start:end], Y_train[start:end])\n",
    "    nns.append(model)\n",
    "    print model.evaluate(X_test, Y_test)\n"
   ]
  },
  {
   "cell_type": "code",
   "execution_count": null,
   "metadata": {
    "collapsed": false
   },
   "outputs": [],
   "source": [
    "model = train0Layer(X_train, Y_train, 784)"
   ]
  },
  {
   "cell_type": "code",
   "execution_count": null,
   "metadata": {
    "collapsed": true
   },
   "outputs": [],
   "source": []
  },
  {
   "cell_type": "code",
   "execution_count": null,
   "metadata": {
    "collapsed": true
   },
   "outputs": [],
   "source": []
  }
 ],
 "metadata": {
  "anaconda-cloud": {},
  "kernelspec": {
   "display_name": "Python [default]",
   "language": "python",
   "name": "python2"
  },
  "language_info": {
   "codemirror_mode": {
    "name": "ipython",
    "version": 2
   },
   "file_extension": ".py",
   "mimetype": "text/x-python",
   "name": "python",
   "nbconvert_exporter": "python",
   "pygments_lexer": "ipython2",
   "version": "2.7.12"
  }
 },
 "nbformat": 4,
 "nbformat_minor": 1
}
