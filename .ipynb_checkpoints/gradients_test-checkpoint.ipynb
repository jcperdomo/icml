{
 "cells": [
  {
   "cell_type": "code",
   "execution_count": 1,
   "metadata": {
    "collapsed": false
   },
   "outputs": [
    {
     "name": "stderr",
     "output_type": "stream",
     "text": [
      "Using TensorFlow backend.\n"
     ]
    }
   ],
   "source": [
    "from setup_mnist import MNIST\n",
    "import helper\n",
    "import numpy as np\n",
    "import time\n",
    "import matplotlib.pyplot as plt\n",
    "from sklearn import svm\n",
    "from cvxopt import matrix, solvers\n",
    "from itertools import product\n",
    "import tensorflow as tf\n",
    "%matplotlib inline"
   ]
  },
  {
   "cell_type": "code",
   "execution_count": 2,
   "metadata": {
    "collapsed": true
   },
   "outputs": [],
   "source": [
    "data = MNIST()"
   ]
  },
  {
   "cell_type": "code",
   "execution_count": 3,
   "metadata": {
    "collapsed": true
   },
   "outputs": [],
   "source": [
    "label_dict = {4:-1, 9:1}\n",
    "X_train, Y_train = helper.subsetData(data.train_data, data.train_labels, label_dict)\n",
    "X_train, Y_train, _ = helper.shuffleArraysInUnison(X_train, Y_train)"
   ]
  },
  {
   "cell_type": "code",
   "execution_count": 4,
   "metadata": {
    "collapsed": true
   },
   "outputs": [],
   "source": [
    "X_test, Y_test = helper.subsetData(data.test_data, data.test_labels, label_dict)"
   ]
  },
  {
   "cell_type": "code",
   "execution_count": 5,
   "metadata": {
    "collapsed": false
   },
   "outputs": [],
   "source": [
    "class LinearBinaryClassifier(object):\n",
    "    \"\"\"\n",
    "    Class for Linear Binary Classifiers\n",
    "    \n",
    "    weights: np array of shape (dim, 1)\n",
    "    bias: scalar\n",
    "    \"\"\"\n",
    "    def __init__(self, weights, bias):\n",
    "        self.dim = weights.shape[0]\n",
    "        self.weights = weights\n",
    "        self.bias = bias\n",
    "\n",
    "    def predict(self, X):\n",
    "        \"\"\"\n",
    "        X: np array of shape (num_points, dim) \n",
    "        \n",
    "        returns: a vector of shape (num_points,) with predicted labels for each point\n",
    "        \"\"\"\n",
    "        return np.sign(np.matmul(X, self.weights) + self.bias).T[0]\n",
    "    \n",
    "    def distance(self, X):\n",
    "        \"\"\"\n",
    "        Computes the signed distance from a point to the decision boundary (hyperplane)\n",
    "        \n",
    "        returns: a vector of shape (num_points,) with the correspoding distances\n",
    "        \"\"\"\n",
    "        return abs((np.matmul(X, self.weights) + self.bias) / np.linalg.norm(self.weights)).T[0]\n",
    "    \n",
    "    def evaluate(self, X, Y):\n",
    "        \"\"\"\n",
    "        returns accuracy\n",
    "        \"\"\"\n",
    "        return np.mean(np.equal(self.predict(X), Y))\n",
    "    \n",
    "    def gradient(self, X, Y):\n",
    "        \"\"\"\n",
    "        returns gradient\n",
    "        \"\"\"\n",
    "        return np.array([Y[i] * self.weights.reshape(-1,) if self.predict(X[i]) == Y[i] \n",
    "                         else np.zeros(self.dim) for i in xrange(len(X))])"
   ]
  },
  {
   "cell_type": "code",
   "execution_count": 52,
   "metadata": {
    "collapsed": false
   },
   "outputs": [
    {
     "name": "stdout",
     "output_type": "stream",
     "text": [
      "0 0 100 0.886991461577\n",
      "1 100 200 0.918633852336\n",
      "2 200 300 0.901054746359\n",
      "3 300 400 0.91511803114\n"
     ]
    }
   ],
   "source": [
    "# train the classifiers\n",
    "n = 4\n",
    "train_size = 100 #len(X_train) / n\n",
    "\n",
    "binary_classifiers = []\n",
    "\n",
    "for i in xrange(n):\n",
    "    model = svm.SVC(kernel = \"linear\")\n",
    "    start = train_size * i\n",
    "    end = start + train_size\n",
    "    model.fit(X_train[start:end], Y_train[start:end])\n",
    "    lbc = LinearBinaryClassifier(model.coef_.T, model.intercept_)\n",
    "    print i, start, end, lbc.evaluate(X_test, Y_test)\n",
    "    binary_classifiers.append(lbc)\n"
   ]
  },
  {
   "cell_type": "code",
   "execution_count": 53,
   "metadata": {
    "collapsed": false
   },
   "outputs": [
    {
     "data": {
      "text/plain": [
       "array([[ -1.21430643e-16],\n",
       "       [ -1.21430643e-16],\n",
       "       [ -1.21430643e-16],\n",
       "       [ -1.21430643e-16],\n",
       "       [ -1.21430643e-16]])"
      ]
     },
     "execution_count": 53,
     "metadata": {},
     "output_type": "execute_result"
    }
   ],
   "source": [
    "binary_classifiers[0].weights[:5]"
   ]
  },
  {
   "cell_type": "code",
   "execution_count": 75,
   "metadata": {
    "collapsed": true
   },
   "outputs": [],
   "source": [
    "X = tf.placeholder(tf.float32, shape=[None, 784])\n",
    "Y = tf.placeholder(tf.float32, shape=[None, 1])\n",
    "\n",
    "w0 = tf.placeholder(tf.float32, shape=[784,1])\n",
    "b0 = tf.placeholder(tf.float32, shape=[1])\n",
    "\n",
    "w1 = tf.placeholder(tf.float32, shape=[784,1])\n",
    "b1 = tf.placeholder(tf.float32, shape=[1])\n",
    "\n",
    "p0 = 1\n",
    "p1 = 2\n",
    "l0 = tf.maximum(0.0, Y * (tf.matmul(X, w0) + b0)) \n",
    "l1 = tf.maximum(0.0, Y * (tf.matmul(X, w1) + b1)) \n",
    "\n",
    "l = p0 * l0 + p1 * l1\n",
    "\n",
    "grad = tf.gradients(l, X)\n",
    "sess = tf.Session()\n",
    "result = sess.run(grad, {X: X_test[30:40], Y: Y_test[30:40].reshape(10,1), w0: binary_classifiers[0].weights, \n",
    "                         b0: binary_classifiers[0].bias, w1: binary_classifiers[1].weights, \n",
    "                         b1: binary_classifiers[1].bias})\n"
   ]
  },
  {
   "cell_type": "code",
   "execution_count": 62,
   "metadata": {
    "collapsed": false
   },
   "outputs": [
    {
     "data": {
      "text/plain": [
       "1"
      ]
     },
     "execution_count": 62,
     "metadata": {},
     "output_type": "execute_result"
    }
   ],
   "source": [
    "len(result)"
   ]
  },
  {
   "cell_type": "code",
   "execution_count": 104,
   "metadata": {
    "collapsed": false
   },
   "outputs": [
    {
     "data": {
      "text/plain": [
       "1"
      ]
     },
     "execution_count": 104,
     "metadata": {},
     "output_type": "execute_result"
    }
   ],
   "source": [
    "Y_test[30]"
   ]
  },
  {
   "cell_type": "code",
   "execution_count": 103,
   "metadata": {
    "collapsed": false
   },
   "outputs": [
    {
     "data": {
      "text/plain": [
       "1.0"
      ]
     },
     "execution_count": 103,
     "metadata": {},
     "output_type": "execute_result"
    }
   ],
   "source": [
    "binary_classifiers[1].predict(X_test[30])"
   ]
  },
  {
   "cell_type": "code",
   "execution_count": 105,
   "metadata": {
    "collapsed": false
   },
   "outputs": [
    {
     "data": {
      "text/plain": [
       "array([ -1.90819582e-17,  -1.90819582e-17,  -1.90819582e-17,\n",
       "        -1.90819582e-17,  -1.90819582e-17], dtype=float32)"
      ]
     },
     "execution_count": 105,
     "metadata": {},
     "output_type": "execute_result"
    }
   ],
   "source": [
    "result[0][0,:5]"
   ]
  },
  {
   "cell_type": "code",
   "execution_count": 58,
   "metadata": {
    "collapsed": false
   },
   "outputs": [
    {
     "data": {
      "text/plain": [
       "0.90000000000000002"
      ]
     },
     "execution_count": 58,
     "metadata": {},
     "output_type": "execute_result"
    }
   ],
   "source": [
    "binary_classifiers[0].evaluate(X_test[30:40], Y_test[30:40])"
   ]
  },
  {
   "cell_type": "code",
   "execution_count": 79,
   "metadata": {
    "collapsed": false
   },
   "outputs": [],
   "source": [
    "g0 = binary_classifiers[0].gradient(X_test[30:40], Y_test[30:40])\n",
    "g1 = binary_classifiers[1].gradient(X_test[30:40], Y_test[30:40])\n",
    "test = p0 * g0 + p1 * g1"
   ]
  },
  {
   "cell_type": "code",
   "execution_count": 96,
   "metadata": {
    "collapsed": false
   },
   "outputs": [
    {
     "data": {
      "text/plain": [
       "1"
      ]
     },
     "execution_count": 96,
     "metadata": {},
     "output_type": "execute_result"
    }
   ],
   "source": [
    "Y_test[39]"
   ]
  },
  {
   "cell_type": "code",
   "execution_count": 98,
   "metadata": {
    "collapsed": false
   },
   "outputs": [
    {
     "data": {
      "text/plain": [
       "-1.0"
      ]
     },
     "execution_count": 98,
     "metadata": {},
     "output_type": "execute_result"
    }
   ],
   "source": [
    "binary_classifiers[0].predict(X_test[39])"
   ]
  },
  {
   "cell_type": "code",
   "execution_count": 99,
   "metadata": {
    "collapsed": false
   },
   "outputs": [
    {
     "data": {
      "text/plain": [
       "array([  1.02348685e-16,   1.02348685e-16,   1.02348685e-16,\n",
       "         1.02348685e-16,   1.02348685e-16])"
      ]
     },
     "execution_count": 99,
     "metadata": {},
     "output_type": "execute_result"
    }
   ],
   "source": [
    "g1[9,:5] * p1"
   ]
  },
  {
   "cell_type": "code",
   "execution_count": 106,
   "metadata": {
    "collapsed": false
   },
   "outputs": [
    {
     "data": {
      "text/plain": [
       "array([ -1.90819582e-17,  -1.90819582e-17,  -1.90819582e-17,\n",
       "        -1.90819582e-17,  -1.90819582e-17])"
      ]
     },
     "execution_count": 106,
     "metadata": {},
     "output_type": "execute_result"
    }
   ],
   "source": [
    "test[0, :5]"
   ]
  },
  {
   "cell_type": "code",
   "execution_count": null,
   "metadata": {
    "collapsed": true
   },
   "outputs": [],
   "source": []
  }
 ],
 "metadata": {
  "kernelspec": {
   "display_name": "Python [default]",
   "language": "python",
   "name": "python2"
  },
  "language_info": {
   "codemirror_mode": {
    "name": "ipython",
    "version": 2
   },
   "file_extension": ".py",
   "mimetype": "text/x-python",
   "name": "python",
   "nbconvert_exporter": "python",
   "pygments_lexer": "ipython2",
   "version": "2.7.12"
  }
 },
 "nbformat": 4,
 "nbformat_minor": 1
}
