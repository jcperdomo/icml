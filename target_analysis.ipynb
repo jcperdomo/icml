{
 "cells": [
  {
   "cell_type": "code",
   "execution_count": 1,
   "metadata": {
    "collapsed": true
   },
   "outputs": [],
   "source": [
    "import numpy as np\n",
    "import matplotlib.pyplot as plt\n",
    "from linear_models import LinearBinaryClassifier, LinearOneVsAllClassifier\n",
    "from noise_functions_multiclass import tryRegionOneVsAll\n",
    "import time\n",
    "%matplotlib inline"
   ]
  },
  {
   "cell_type": "code",
   "execution_count": 19,
   "metadata": {
    "collapsed": false
   },
   "outputs": [],
   "source": [
    "def optTargetedNoiseMulti(model, X, Targets, alpha):\n",
    "    n = X.shape[0]\n",
    "    noise = []\n",
    "    # iterate over all points\n",
    "    for i in xrange(n):\n",
    "        v = tryRegionOneVsAll([model], [Targets[i]], X[i])\n",
    "        norm = np.linalg.norm(v)\n",
    "        if norm < alpha:\n",
    "            res = v\n",
    "        else:\n",
    "            res = np.zeros(28*28)\n",
    "        noise.append(res)\n",
    "    return np.array(noise)"
   ]
  },
  {
   "cell_type": "code",
   "execution_count": 2,
   "metadata": {
    "collapsed": true
   },
   "outputs": [],
   "source": [
    "folders = ['randomAscent', 'greedyAscent', 'gradientDescent']"
   ]
  },
  {
   "cell_type": "code",
   "execution_count": 9,
   "metadata": {
    "collapsed": true
   },
   "outputs": [],
   "source": [
    "data_path = \"multiclass_data_2\"\n",
    "models = []\n",
    "exp_type = \"multiclass\"\n",
    "num_classifiers = 5\n",
    "alpha = .5\n",
    "\n",
    "X_exp = np.load(data_path + \"/\" + \"X_exp.npy\")\n",
    "Target_exp = np.load(data_path + \"/\" + \"Target_exp.npy\")\n",
    "\n",
    "for i in xrange(num_classifiers):\n",
    "    weights = np.load(data_path + \"/\" + \"weights_{}.npy\".format(i))\n",
    "    bias = np.load(data_path + \"/\" + \"bias_{}.npy\".format(i))\n",
    "    model = LinearOneVsAllClassifier(10, weights, bias)\n",
    "    models.append(model)"
   ]
  },
  {
   "cell_type": "code",
   "execution_count": 10,
   "metadata": {
    "collapsed": true
   },
   "outputs": [],
   "source": [
    "ensemble_weights = sum([1.0 / num_classifiers * model.weights for model in models ])\n",
    "ensemble_bias = sum([1.0 / num_classifiers * model.bias for model in models ])\n",
    "ensemble_model = LinearOneVsAllClassifier(10, ensemble_weights, ensemble_bias)"
   ]
  },
  {
   "cell_type": "code",
   "execution_count": 23,
   "metadata": {
    "collapsed": true
   },
   "outputs": [],
   "source": [
    "def normalize(noise, alpha):\n",
    "    for i in range(noise.shape[0]):\n",
    "        norm = np.linalg.norm(noise[i])\n",
    "        if norm > 0:\n",
    "            noise[i] = noise[i] / norm * alpha\n",
    "    return noise"
   ]
  },
  {
   "cell_type": "code",
   "execution_count": 46,
   "metadata": {
    "collapsed": false
   },
   "outputs": [],
   "source": [
    "ensemble_noise = optTargetedNoiseMulti(ensemble_model, X_exp, Target_exp, alpha)\n",
    "ensemble_noise = normalize(ensemble_noise, alpha)"
   ]
  },
  {
   "cell_type": "code",
   "execution_count": 37,
   "metadata": {
    "collapsed": false
   },
   "outputs": [],
   "source": [
    "individual_noise = [optTargetedNoiseMulti(model, X_exp, Target_exp, alpha) for model in models]\n",
    "individual_noise = [normalize(noise, alpha) for noise in individual_noise]"
   ]
  },
  {
   "cell_type": "code",
   "execution_count": 34,
   "metadata": {
    "collapsed": true
   },
   "outputs": [],
   "source": [
    "max_model = max([min([model.evaluate(X_exp + noise, Target_exp) for model in models]) for noise in individual_noise])"
   ]
  },
  {
   "cell_type": "code",
   "execution_count": 48,
   "metadata": {
    "collapsed": true
   },
   "outputs": [],
   "source": [
    "ensemble_res = min([model.evaluate(X_exp + ensemble_noise, Target_exp) for model in models])"
   ]
  },
  {
   "cell_type": "code",
   "execution_count": 4,
   "metadata": {
    "collapsed": false
   },
   "outputs": [],
   "source": [
    "loss_histories = []\n",
    "max_acc_histories = []\n",
    "\n",
    "for folder in folders:\n",
    "    lh = np.load('targeted_experiments/multiclass-targeted-'+folder+\"-1-28/loss_history.npy\")\n",
    "    loss_histories.append(lh)\n",
    "    ma = np.load('targeted_experiments/multiclass-targeted-'+folder+\"-1-28/acc_history.npy\")\n",
    "    max_acc_histories.append(ma)"
   ]
  },
  {
   "cell_type": "code",
   "execution_count": 50,
   "metadata": {
    "collapsed": false
   },
   "outputs": [
    {
     "data": {
      "text/plain": [
       "<matplotlib.text.Text at 0x10fcf1d10>"
      ]
     },
     "execution_count": 50,
     "metadata": {},
     "output_type": "execute_result"
    },
    {
     "data": {
      "image/png": "[encoded data removed]",
      "text/plain": [
       "<matplotlib.figure.Figure at 0x10fde7c90>"
      ]
     },
     "metadata": {},
     "output_type": "display_data"
    }
   ],
   "source": [
    "display_folders = ['random ascent', 'greedy ascent', 'reverse hinge loss']\n",
    "colors = [\"green\", \"red\", \"cyan\"]\n",
    "for i, ma in enumerate(max_acc_histories):\n",
    "    plt.plot(range(100), ma, color=colors[i])\n",
    "plt.plot(range(100), [ensemble_res] * 100, linestyle=\"--\", color=\"purple\")\n",
    "plt.plot(range(100), [max_model] * 100, linestyle=\"--\", color=\"black\")\n",
    "# plt.legend(display_folders + [\"ensemble baseline\", \"individual baseline\"], loc=\"right\", bbox_to_anchor=(.95,.2), fontsize=8)\n",
    "plt.title(\"Targeted Noise Linear Classifiers\")\n",
    "plt.ylabel(\"Min Target Accuracy\")\n",
    "plt.xlabel(\"MWU Round\")"
   ]
  },
  {
   "cell_type": "code",
   "execution_count": null,
   "metadata": {
    "collapsed": true
   },
   "outputs": [],
   "source": []
  }
 ],
 "metadata": {
  "kernelspec": {
   "display_name": "Python [default]",
   "language": "python",
   "name": "python2"
  },
  "language_info": {
   "codemirror_mode": {
    "name": "ipython",
    "version": 2
   },
   "file_extension": ".py",
   "mimetype": "text/x-python",
   "name": "python",
   "nbconvert_exporter": "python",
   "pygments_lexer": "ipython2",
   "version": "2.7.12"
  }
 },
 "nbformat": 4,
 "nbformat_minor": 1
}
